{
 "cells": [
  {
   "cell_type": "markdown",
   "metadata": {},
   "source": [
    "# Read in the data"
   ]
  },
  {
   "cell_type": "code",
   "execution_count": 38,
   "metadata": {
    "collapsed": true
   },
   "outputs": [],
   "source": [
    "import pandas as pd\n",
    "import numpy\n",
    "import re\n",
    "import matplotlib as plt\n",
    "%matplotlib inline\n",
    "\n",
    "data_files = [\n",
    "    \"ap_2010.csv\",\n",
    "    \"class_size.csv\",\n",
    "    \"demographics.csv\",\n",
    "    \"graduation.csv\",\n",
    "    \"hs_directory.csv\",\n",
    "    \"sat_results.csv\"\n",
    "]\n",
    "\n",
    "data = {}\n",
    "\n",
    "for f in data_files:\n",
    "    d = pd.read_csv(\"schools/{0}\".format(f))\n",
    "    data[f.replace(\".csv\", \"\")] = d"
   ]
  },
  {
   "cell_type": "markdown",
   "metadata": {},
   "source": [
    "# Read in the surveys"
   ]
  },
  {
   "cell_type": "code",
   "execution_count": 39,
   "metadata": {
    "collapsed": true
   },
   "outputs": [],
   "source": [
    "all_survey = pd.read_csv(\"schools/survey_all.txt\", delimiter=\"\\t\", encoding='windows-1252')\n",
    "d75_survey = pd.read_csv(\"schools/survey_d75.txt\", delimiter=\"\\t\", encoding='windows-1252')\n",
    "survey = pd.concat([all_survey, d75_survey], axis=0)\n",
    "\n",
    "survey[\"DBN\"] = survey[\"dbn\"]\n",
    "\n",
    "survey_fields = [\n",
    "    \"DBN\", \n",
    "    \"rr_s\", \n",
    "    \"rr_t\", \n",
    "    \"rr_p\", \n",
    "    \"N_s\", \n",
    "    \"N_t\", \n",
    "    \"N_p\", \n",
    "    \"saf_p_11\", \n",
    "    \"com_p_11\", \n",
    "    \"eng_p_11\", \n",
    "    \"aca_p_11\", \n",
    "    \"saf_t_11\", \n",
    "    \"com_t_11\", \n",
    "    \"eng_t_11\", \n",
    "    \"aca_t_11\", \n",
    "    \"saf_s_11\", \n",
    "    \"com_s_11\", \n",
    "    \"eng_s_11\", \n",
    "    \"aca_s_11\", \n",
    "    \"saf_tot_11\", \n",
    "    \"com_tot_11\", \n",
    "    \"eng_tot_11\", \n",
    "    \"aca_tot_11\",\n",
    "]\n",
    "survey = survey.loc[:,survey_fields]\n",
    "data[\"survey\"] = survey"
   ]
  },
  {
   "cell_type": "markdown",
   "metadata": {},
   "source": [
    "# Add DBN columns"
   ]
  },
  {
   "cell_type": "code",
   "execution_count": 40,
   "metadata": {
    "collapsed": true
   },
   "outputs": [],
   "source": [
    "data[\"hs_directory\"][\"DBN\"] = data[\"hs_directory\"][\"dbn\"]\n",
    "\n",
    "def pad_csd(num):\n",
    "    string_representation = str(num)\n",
    "    if len(string_representation) > 1:\n",
    "        return string_representation\n",
    "    else:\n",
    "        return \"0\" + string_representation\n",
    "    \n",
    "data[\"class_size\"][\"padded_csd\"] = data[\"class_size\"][\"CSD\"].apply(pad_csd)\n",
    "data[\"class_size\"][\"DBN\"] = data[\"class_size\"][\"padded_csd\"] + data[\"class_size\"][\"SCHOOL CODE\"]"
   ]
  },
  {
   "cell_type": "markdown",
   "metadata": {},
   "source": [
    "# Convert columns to numeric"
   ]
  },
  {
   "cell_type": "code",
   "execution_count": 41,
   "metadata": {
    "collapsed": false
   },
   "outputs": [
    {
     "data": {
      "text/plain": [
       "0    883 Classon Avenue\\nBrooklyn, NY 11225\\n(40.67...\n",
       "1    1110 Boston Road\\nBronx, NY 10456\\n(40.8276026...\n",
       "2    1501 Jerome Avenue\\nBronx, NY 10452\\n(40.84241...\n",
       "3    411 Pearl Street\\nNew York, NY 10038\\n(40.7106...\n",
       "4    160-20 Goethals Avenue\\nJamaica, NY 11432\\n(40...\n",
       "Name: Location 1, dtype: object"
      ]
     },
     "execution_count": 41,
     "metadata": {},
     "output_type": "execute_result"
    }
   ],
   "source": [
    "data[\"hs_directory\"][\"Location 1\"].head()"
   ]
  },
  {
   "cell_type": "code",
   "execution_count": 42,
   "metadata": {
    "collapsed": true
   },
   "outputs": [],
   "source": [
    "cols = ['SAT Math Avg. Score', 'SAT Critical Reading Avg. Score', 'SAT Writing Avg. Score']\n",
    "for c in cols:\n",
    "    data[\"sat_results\"][c] = pd.to_numeric(data[\"sat_results\"][c], errors=\"coerce\")\n",
    "\n",
    "data['sat_results']['sat_score'] = data['sat_results'][cols[0]] + data['sat_results'][cols[1]] + data['sat_results'][cols[2]]\n",
    "\n",
    "def find_lat(loc):\n",
    "    coords = re.findall(\"\\(.+, .+\\)\", loc)\n",
    "    lat = coords[0].split(\",\")[0].replace(\"(\", \"\")\n",
    "    return lat\n",
    "\n",
    "def find_lon(loc):\n",
    "    coords = re.findall(\"\\(.+, .+\\)\", loc)\n",
    "    lon = coords[0].split(\",\")[1].replace(\")\", \"\").strip()\n",
    "    return lon\n",
    "\n",
    "data[\"hs_directory\"][\"lat\"] = data[\"hs_directory\"][\"Location 1\"].apply(find_lat)\n",
    "data[\"hs_directory\"][\"lon\"] = data[\"hs_directory\"][\"Location 1\"].apply(find_lon)\n",
    "\n",
    "data[\"hs_directory\"][\"lat\"] = pd.to_numeric(data[\"hs_directory\"][\"lat\"], errors=\"coerce\")\n",
    "data[\"hs_directory\"][\"lon\"] = pd.to_numeric(data[\"hs_directory\"][\"lon\"], errors=\"coerce\")"
   ]
  },
  {
   "cell_type": "markdown",
   "metadata": {},
   "source": [
    "# Condense datasets"
   ]
  },
  {
   "cell_type": "code",
   "execution_count": 43,
   "metadata": {
    "collapsed": false
   },
   "outputs": [],
   "source": [
    "class_size = data[\"class_size\"]\n",
    "class_size = class_size[class_size[\"GRADE \"] == \"09-12\"]\n",
    "class_size = class_size[class_size[\"PROGRAM TYPE\"] == \"GEN ED\"]\n",
    "\n",
    "class_size = class_size.groupby(\"DBN\").agg(numpy.mean)\n",
    "class_size.reset_index(inplace=True)\n",
    "data[\"class_size\"] = class_size\n",
    "\n",
    "data[\"demographics\"] = data[\"demographics\"][data[\"demographics\"][\"schoolyear\"] == 20112012]\n",
    "\n",
    "data[\"graduation\"] = data[\"graduation\"][data[\"graduation\"][\"Cohort\"] == \"2006\"]\n",
    "data[\"graduation\"] = data[\"graduation\"][data[\"graduation\"][\"Demographic\"] == \"Total Cohort\"]"
   ]
  },
  {
   "cell_type": "markdown",
   "metadata": {},
   "source": [
    "# Convert AP scores to numeric"
   ]
  },
  {
   "cell_type": "code",
   "execution_count": 44,
   "metadata": {
    "collapsed": true
   },
   "outputs": [],
   "source": [
    "cols = ['AP Test Takers ', 'Total Exams Taken', 'Number of Exams with scores 3 4 or 5']\n",
    "\n",
    "for col in cols:\n",
    "    data[\"ap_2010\"][col] = pd.to_numeric(data[\"ap_2010\"][col], errors=\"coerce\")"
   ]
  },
  {
   "cell_type": "markdown",
   "metadata": {},
   "source": [
    "# Combine the datasets"
   ]
  },
  {
   "cell_type": "code",
   "execution_count": 45,
   "metadata": {
    "collapsed": true
   },
   "outputs": [],
   "source": [
    "combined = data[\"sat_results\"]\n",
    "\n",
    "combined = combined.merge(data[\"ap_2010\"], on=\"DBN\", how=\"left\")\n",
    "combined = combined.merge(data[\"graduation\"], on=\"DBN\", how=\"left\")\n",
    "\n",
    "to_merge = [\"class_size\", \"demographics\", \"survey\", \"hs_directory\"]\n",
    "\n",
    "for m in to_merge:\n",
    "    combined = combined.merge(data[m], on=\"DBN\", how=\"inner\")\n",
    "\n",
    "combined = combined.fillna(combined.mean())\n",
    "combined = combined.fillna(0)"
   ]
  },
  {
   "cell_type": "markdown",
   "metadata": {},
   "source": [
    "# Add a school district column for mapping"
   ]
  },
  {
   "cell_type": "code",
   "execution_count": 46,
   "metadata": {
    "collapsed": true
   },
   "outputs": [],
   "source": [
    "def get_first_two_chars(dbn):\n",
    "    return dbn[0:2]\n",
    "\n",
    "combined[\"school_dist\"] = combined[\"DBN\"].apply(get_first_two_chars)"
   ]
  },
  {
   "cell_type": "markdown",
   "metadata": {},
   "source": [
    "# Find correlations"
   ]
  },
  {
   "cell_type": "code",
   "execution_count": 47,
   "metadata": {
    "collapsed": false
   },
   "outputs": [
    {
     "name": "stdout",
     "output_type": "stream",
     "text": [
      "SAT Critical Reading Avg. Score         0.986820\n",
      "SAT Math Avg. Score                     0.972643\n",
      "SAT Writing Avg. Score                  0.987771\n",
      "sat_score                               1.000000\n",
      "AP Test Takers                          0.523140\n",
      "Total Exams Taken                       0.514333\n",
      "Number of Exams with scores 3 4 or 5    0.463245\n",
      "Total Cohort                            0.325144\n",
      "CSD                                     0.042948\n",
      "NUMBER OF STUDENTS / SEATS FILLED       0.394626\n",
      "NUMBER OF SECTIONS                      0.362673\n",
      "AVERAGE CLASS SIZE                      0.381014\n",
      "SIZE OF SMALLEST CLASS                  0.249949\n",
      "SIZE OF LARGEST CLASS                   0.314434\n",
      "SCHOOLWIDE PUPIL-TEACHER RATIO               NaN\n",
      "schoolyear                                   NaN\n",
      "fl_percent                                   NaN\n",
      "frl_percent                            -0.722225\n",
      "total_enrollment                        0.367857\n",
      "ell_num                                -0.153778\n",
      "ell_percent                            -0.398750\n",
      "sped_num                                0.034933\n",
      "sped_percent                           -0.448170\n",
      "asian_num                               0.475445\n",
      "asian_per                               0.570730\n",
      "black_num                               0.027979\n",
      "black_per                              -0.284139\n",
      "hispanic_num                            0.025744\n",
      "hispanic_per                           -0.396985\n",
      "white_num                               0.449559\n",
      "                                          ...   \n",
      "rr_p                                    0.047925\n",
      "N_s                                     0.423463\n",
      "N_t                                     0.291463\n",
      "N_p                                     0.421530\n",
      "saf_p_11                                0.122913\n",
      "com_p_11                               -0.115073\n",
      "eng_p_11                                0.020254\n",
      "aca_p_11                                0.035155\n",
      "saf_t_11                                0.313810\n",
      "com_t_11                                0.082419\n",
      "eng_t_11                                0.036906\n",
      "aca_t_11                                0.132348\n",
      "saf_s_11                                0.337639\n",
      "com_s_11                                0.187370\n",
      "eng_s_11                                0.213822\n",
      "aca_s_11                                0.339435\n",
      "saf_tot_11                              0.318753\n",
      "com_tot_11                              0.077310\n",
      "eng_tot_11                              0.100102\n",
      "aca_tot_11                              0.190966\n",
      "grade_span_max                               NaN\n",
      "expgrade_span_max                            NaN\n",
      "zip                                    -0.063977\n",
      "total_students                          0.407827\n",
      "number_programs                         0.117012\n",
      "priority08                                   NaN\n",
      "priority09                                   NaN\n",
      "priority10                                   NaN\n",
      "lat                                    -0.121029\n",
      "lon                                    -0.132222\n",
      "Name: sat_score, Length: 67, dtype: float64\n"
     ]
    }
   ],
   "source": [
    "correlations = combined.corr()\n",
    "correlations = correlations[\"sat_score\"]\n",
    "print(correlations)"
   ]
  },
  {
   "cell_type": "markdown",
   "metadata": {},
   "source": [
    "# Plotting survey correlations"
   ]
  },
  {
   "cell_type": "code",
   "execution_count": 48,
   "metadata": {
    "collapsed": true
   },
   "outputs": [],
   "source": [
    "# Remove DBN since it's a unique identifier, not a useful numerical value for correlation.\n",
    "survey_fields.remove(\"DBN\")"
   ]
  },
  {
   "cell_type": "code",
   "execution_count": 49,
   "metadata": {
    "collapsed": false
   },
   "outputs": [
    {
     "data": {
      "text/plain": [
       "['rr_s',\n",
       " 'rr_t',\n",
       " 'rr_p',\n",
       " 'N_s',\n",
       " 'N_t',\n",
       " 'N_p',\n",
       " 'saf_p_11',\n",
       " 'com_p_11',\n",
       " 'eng_p_11',\n",
       " 'aca_p_11',\n",
       " 'saf_t_11',\n",
       " 'com_t_11',\n",
       " 'eng_t_11',\n",
       " 'aca_t_11',\n",
       " 'saf_s_11',\n",
       " 'com_s_11',\n",
       " 'eng_s_11',\n",
       " 'aca_s_11',\n",
       " 'saf_tot_11',\n",
       " 'com_tot_11',\n",
       " 'eng_tot_11',\n",
       " 'aca_tot_11']"
      ]
     },
     "execution_count": 49,
     "metadata": {},
     "output_type": "execute_result"
    }
   ],
   "source": [
    "survey_fields"
   ]
  },
  {
   "cell_type": "code",
   "execution_count": 50,
   "metadata": {
    "collapsed": false
   },
   "outputs": [],
   "source": [
    "corr_score_survey = combined.corr()['sat_score'][survey_fields]"
   ]
  },
  {
   "cell_type": "code",
   "execution_count": 51,
   "metadata": {
    "collapsed": false
   },
   "outputs": [
    {
     "data": {
      "text/plain": [
       "<matplotlib.axes._subplots.AxesSubplot at 0x7fe1d33dd5f8>"
      ]
     },
     "execution_count": 51,
     "metadata": {},
     "output_type": "execute_result"
    },
    {
     "data": {
      "image/png": "[encoded data removed]",
      "text/plain": [
       "<matplotlib.figure.Figure at 0x7fe1d33dd160>"
      ]
     },
     "metadata": {},
     "output_type": "display_data"
    }
   ],
   "source": [
    "corr_score_survey.plot(kind = 'bar')"
   ]
  },
  {
   "cell_type": "markdown",
   "metadata": {},
   "source": [
    "There are high correlations between N_s, N_t, N_p and sat_score. Since these columns are correlated with total_enrollment, it makes sense that they would be high.\n",
    "\n",
    "rr_s, the student response rate, or the percentage of students that completed the survey, correlates with sat_score. Students who are more likely to fill out surveys may be more likely to also be doing well academically.\n",
    "\n",
    "How students and teachers percieved safety (saf_t_11 and saf_s_11) correlate with sat_score. This make sense, as it's hard to teach or learn in an unsafe environment.\n",
    "\n",
    "The last interesting correlation is the aca_s_11, which indicates how the student perceives academic standards, correlates with sat_score, but this is not true for aca_t_11, how teachers perceive academic standards, or aca_p_11, how parents perceive academic standards."
   ]
  },
  {
   "cell_type": "code",
   "execution_count": 52,
   "metadata": {
    "collapsed": false
   },
   "outputs": [
    {
     "data": {
      "text/plain": [
       "<matplotlib.axes._subplots.AxesSubplot at 0x7fe1d31ed160>"
      ]
     },
     "execution_count": 52,
     "metadata": {},
     "output_type": "execute_result"
    },
    {
     "data": {
      "image/png": "[encoded data removed]",
      "text/plain": [
       "<matplotlib.figure.Figure at 0x7fe1d3221be0>"
      ]
     },
     "metadata": {},
     "output_type": "display_data"
    }
   ],
   "source": [
    "combined.plot('saf_s_11', 'sat_score', kind = 'scatter')"
   ]
  },
  {
   "cell_type": "markdown",
   "metadata": {},
   "source": [
    "The correlation does not appear to be that strong between SAT scores and safety. There are a few schools that appear in the upper right hand corner and the lower left hand corner that agree with the theory that safety score is correlated with sat score "
   ]
  },
  {
   "cell_type": "code",
   "execution_count": null,
   "metadata": {
    "collapsed": true
   },
   "outputs": [],
   "source": []
  },
  {
   "cell_type": "markdown",
   "metadata": {},
   "source": [
    "# Plot the School Districts on a Map with the Safety as a Color"
   ]
  },
  {
   "cell_type": "code",
   "execution_count": 53,
   "metadata": {
    "collapsed": false
   },
   "outputs": [
    {
     "data": {
      "text/plain": [
       "array(['DBN', 'SCHOOL NAME', 'Num of SAT Test Takers',\n",
       "       'SAT Critical Reading Avg. Score', 'SAT Math Avg. Score',\n",
       "       'SAT Writing Avg. Score', 'sat_score', 'SchoolName',\n",
       "       'AP Test Takers ', 'Total Exams Taken',\n",
       "       'Number of Exams with scores 3 4 or 5', 'Demographic',\n",
       "       'School Name', 'Cohort', 'Total Cohort', 'Total Grads - n',\n",
       "       'Total Grads - % of cohort', 'Total Regents - n',\n",
       "       'Total Regents - % of cohort', 'Total Regents - % of grads',\n",
       "       'Advanced Regents - n', 'Advanced Regents - % of cohort',\n",
       "       'Advanced Regents - % of grads', 'Regents w/o Advanced - n',\n",
       "       'Regents w/o Advanced - % of cohort',\n",
       "       'Regents w/o Advanced - % of grads', 'Local - n',\n",
       "       'Local - % of cohort', 'Local - % of grads', 'Still Enrolled - n',\n",
       "       'Still Enrolled - % of cohort', 'Dropped Out - n',\n",
       "       'Dropped Out - % of cohort', 'CSD',\n",
       "       'NUMBER OF STUDENTS / SEATS FILLED', 'NUMBER OF SECTIONS',\n",
       "       'AVERAGE CLASS SIZE', 'SIZE OF SMALLEST CLASS',\n",
       "       'SIZE OF LARGEST CLASS', 'SCHOOLWIDE PUPIL-TEACHER RATIO', 'Name',\n",
       "       'schoolyear', 'fl_percent', 'frl_percent', 'total_enrollment',\n",
       "       'prek', 'k', 'grade1', 'grade2', 'grade3', 'grade4', 'grade5',\n",
       "       'grade6', 'grade7', 'grade8', 'grade9', 'grade10', 'grade11',\n",
       "       'grade12', 'ell_num', 'ell_percent', 'sped_num', 'sped_percent',\n",
       "       'ctt_num', 'selfcontained_num', 'asian_num', 'asian_per',\n",
       "       'black_num', 'black_per', 'hispanic_num', 'hispanic_per',\n",
       "       'white_num', 'white_per', 'male_num', 'male_per', 'female_num',\n",
       "       'female_per', 'rr_s', 'rr_t', 'rr_p', 'N_s', 'N_t', 'N_p',\n",
       "       'saf_p_11', 'com_p_11', 'eng_p_11', 'aca_p_11', 'saf_t_11',\n",
       "       'com_t_11', 'eng_t_11', 'aca_t_11', 'saf_s_11', 'com_s_11',\n",
       "       'eng_s_11', 'aca_s_11', 'saf_tot_11', 'com_tot_11', 'eng_tot_11',\n",
       "       'aca_tot_11', 'dbn', 'school_name', 'boro', 'building_code',\n",
       "       'phone_number', 'fax_number', 'grade_span_min', 'grade_span_max',\n",
       "       'expgrade_span_min', 'expgrade_span_max', 'bus', 'subway',\n",
       "       'primary_address_line_1', 'city', 'state_code', 'zip', 'website',\n",
       "       'total_students', 'campus_name', 'school_type',\n",
       "       'overview_paragraph', 'program_highlights', 'language_classes',\n",
       "       'advancedplacement_courses', 'online_ap_courses',\n",
       "       'online_language_courses', 'extracurricular_activities',\n",
       "       'psal_sports_boys', 'psal_sports_girls', 'psal_sports_coed',\n",
       "       'school_sports', 'partner_cbo', 'partner_hospital',\n",
       "       'partner_highered', 'partner_cultural', 'partner_nonprofit',\n",
       "       'partner_corporate', 'partner_financial', 'partner_other',\n",
       "       'addtl_info1', 'addtl_info2', 'start_time', 'end_time',\n",
       "       'se_services', 'ell_programs', 'school_accessibility_description',\n",
       "       'number_programs', 'priority01', 'priority02', 'priority03',\n",
       "       'priority04', 'priority05', 'priority06', 'priority07',\n",
       "       'priority08', 'priority09', 'priority10', 'Location 1', 'lat',\n",
       "       'lon', 'school_dist'], dtype=object)"
      ]
     },
     "execution_count": 53,
     "metadata": {},
     "output_type": "execute_result"
    }
   ],
   "source": [
    "combined.columns.values"
   ]
  },
  {
   "cell_type": "code",
   "execution_count": 54,
   "metadata": {
    "collapsed": false
   },
   "outputs": [
    {
     "data": {
      "text/html": [
       "<div>\n",
       "<style scoped>\n",
       "    .dataframe tbody tr th:only-of-type {\n",
       "        vertical-align: middle;\n",
       "    }\n",
       "\n",
       "    .dataframe tbody tr th {\n",
       "        vertical-align: top;\n",
       "    }\n",
       "\n",
       "    .dataframe thead th {\n",
       "        text-align: right;\n",
       "    }\n",
       "</style>\n",
       "<table border=\"1\" class=\"dataframe\">\n",
       "  <thead>\n",
       "    <tr style=\"text-align: right;\">\n",
       "      <th></th>\n",
       "      <th>school_dist</th>\n",
       "      <th>SAT Critical Reading Avg. Score</th>\n",
       "      <th>SAT Math Avg. Score</th>\n",
       "      <th>SAT Writing Avg. Score</th>\n",
       "      <th>sat_score</th>\n",
       "      <th>AP Test Takers</th>\n",
       "      <th>Total Exams Taken</th>\n",
       "      <th>Number of Exams with scores 3 4 or 5</th>\n",
       "      <th>Total Cohort</th>\n",
       "      <th>CSD</th>\n",
       "      <th>...</th>\n",
       "      <th>grade_span_max</th>\n",
       "      <th>expgrade_span_max</th>\n",
       "      <th>zip</th>\n",
       "      <th>total_students</th>\n",
       "      <th>number_programs</th>\n",
       "      <th>priority08</th>\n",
       "      <th>priority09</th>\n",
       "      <th>priority10</th>\n",
       "      <th>lat</th>\n",
       "      <th>lon</th>\n",
       "    </tr>\n",
       "  </thead>\n",
       "  <tbody>\n",
       "    <tr>\n",
       "      <th>0</th>\n",
       "      <td>01</td>\n",
       "      <td>441.833333</td>\n",
       "      <td>473.333333</td>\n",
       "      <td>439.333333</td>\n",
       "      <td>1354.500000</td>\n",
       "      <td>116.681090</td>\n",
       "      <td>173.019231</td>\n",
       "      <td>135.800000</td>\n",
       "      <td>93.500000</td>\n",
       "      <td>1.0</td>\n",
       "      <td>...</td>\n",
       "      <td>12.0</td>\n",
       "      <td>12.0</td>\n",
       "      <td>10003.166667</td>\n",
       "      <td>659.500000</td>\n",
       "      <td>1.333333</td>\n",
       "      <td>0.0</td>\n",
       "      <td>0.0</td>\n",
       "      <td>0.0</td>\n",
       "      <td>40.719022</td>\n",
       "      <td>-73.982377</td>\n",
       "    </tr>\n",
       "    <tr>\n",
       "      <th>1</th>\n",
       "      <td>02</td>\n",
       "      <td>426.619092</td>\n",
       "      <td>444.186256</td>\n",
       "      <td>424.832836</td>\n",
       "      <td>1295.638184</td>\n",
       "      <td>128.908454</td>\n",
       "      <td>201.516827</td>\n",
       "      <td>157.495833</td>\n",
       "      <td>158.647849</td>\n",
       "      <td>2.0</td>\n",
       "      <td>...</td>\n",
       "      <td>12.0</td>\n",
       "      <td>12.0</td>\n",
       "      <td>10023.770833</td>\n",
       "      <td>621.395833</td>\n",
       "      <td>1.416667</td>\n",
       "      <td>0.0</td>\n",
       "      <td>0.0</td>\n",
       "      <td>0.0</td>\n",
       "      <td>40.739699</td>\n",
       "      <td>-73.991386</td>\n",
       "    </tr>\n",
       "    <tr>\n",
       "      <th>2</th>\n",
       "      <td>03</td>\n",
       "      <td>428.529851</td>\n",
       "      <td>437.997512</td>\n",
       "      <td>426.915672</td>\n",
       "      <td>1293.443035</td>\n",
       "      <td>156.183494</td>\n",
       "      <td>244.522436</td>\n",
       "      <td>193.087500</td>\n",
       "      <td>183.384409</td>\n",
       "      <td>3.0</td>\n",
       "      <td>...</td>\n",
       "      <td>12.0</td>\n",
       "      <td>12.0</td>\n",
       "      <td>10023.750000</td>\n",
       "      <td>717.916667</td>\n",
       "      <td>2.000000</td>\n",
       "      <td>0.0</td>\n",
       "      <td>0.0</td>\n",
       "      <td>0.0</td>\n",
       "      <td>40.781574</td>\n",
       "      <td>-73.977370</td>\n",
       "    </tr>\n",
       "    <tr>\n",
       "      <th>3</th>\n",
       "      <td>04</td>\n",
       "      <td>402.142857</td>\n",
       "      <td>416.285714</td>\n",
       "      <td>405.714286</td>\n",
       "      <td>1224.142857</td>\n",
       "      <td>129.016484</td>\n",
       "      <td>183.879121</td>\n",
       "      <td>151.035714</td>\n",
       "      <td>113.857143</td>\n",
       "      <td>4.0</td>\n",
       "      <td>...</td>\n",
       "      <td>12.0</td>\n",
       "      <td>12.0</td>\n",
       "      <td>10029.857143</td>\n",
       "      <td>580.857143</td>\n",
       "      <td>1.142857</td>\n",
       "      <td>0.0</td>\n",
       "      <td>0.0</td>\n",
       "      <td>0.0</td>\n",
       "      <td>40.793449</td>\n",
       "      <td>-73.943215</td>\n",
       "    </tr>\n",
       "    <tr>\n",
       "      <th>4</th>\n",
       "      <td>05</td>\n",
       "      <td>427.159915</td>\n",
       "      <td>438.236674</td>\n",
       "      <td>419.666098</td>\n",
       "      <td>1285.062687</td>\n",
       "      <td>85.722527</td>\n",
       "      <td>115.725275</td>\n",
       "      <td>142.464286</td>\n",
       "      <td>143.677419</td>\n",
       "      <td>5.0</td>\n",
       "      <td>...</td>\n",
       "      <td>12.0</td>\n",
       "      <td>12.0</td>\n",
       "      <td>10030.142857</td>\n",
       "      <td>609.857143</td>\n",
       "      <td>1.142857</td>\n",
       "      <td>0.0</td>\n",
       "      <td>0.0</td>\n",
       "      <td>0.0</td>\n",
       "      <td>40.817077</td>\n",
       "      <td>-73.949251</td>\n",
       "    </tr>\n",
       "    <tr>\n",
       "      <th>5</th>\n",
       "      <td>06</td>\n",
       "      <td>382.011940</td>\n",
       "      <td>400.565672</td>\n",
       "      <td>382.066269</td>\n",
       "      <td>1164.643881</td>\n",
       "      <td>108.711538</td>\n",
       "      <td>159.715385</td>\n",
       "      <td>105.425000</td>\n",
       "      <td>180.848387</td>\n",
       "      <td>6.0</td>\n",
       "      <td>...</td>\n",
       "      <td>12.0</td>\n",
       "      <td>12.0</td>\n",
       "      <td>10036.200000</td>\n",
       "      <td>628.900000</td>\n",
       "      <td>1.300000</td>\n",
       "      <td>0.0</td>\n",
       "      <td>0.0</td>\n",
       "      <td>0.0</td>\n",
       "      <td>40.848970</td>\n",
       "      <td>-73.932502</td>\n",
       "    </tr>\n",
       "    <tr>\n",
       "      <th>6</th>\n",
       "      <td>07</td>\n",
       "      <td>376.461538</td>\n",
       "      <td>380.461538</td>\n",
       "      <td>371.923077</td>\n",
       "      <td>1128.846154</td>\n",
       "      <td>73.703402</td>\n",
       "      <td>112.476331</td>\n",
       "      <td>105.276923</td>\n",
       "      <td>105.605459</td>\n",
       "      <td>7.0</td>\n",
       "      <td>...</td>\n",
       "      <td>12.0</td>\n",
       "      <td>12.0</td>\n",
       "      <td>10452.692308</td>\n",
       "      <td>465.846154</td>\n",
       "      <td>1.461538</td>\n",
       "      <td>0.0</td>\n",
       "      <td>0.0</td>\n",
       "      <td>0.0</td>\n",
       "      <td>40.816815</td>\n",
       "      <td>-73.919971</td>\n",
       "    </tr>\n",
       "    <tr>\n",
       "      <th>7</th>\n",
       "      <td>08</td>\n",
       "      <td>386.214383</td>\n",
       "      <td>395.542741</td>\n",
       "      <td>377.908005</td>\n",
       "      <td>1159.665129</td>\n",
       "      <td>118.379371</td>\n",
       "      <td>168.020979</td>\n",
       "      <td>144.731818</td>\n",
       "      <td>215.510264</td>\n",
       "      <td>8.0</td>\n",
       "      <td>...</td>\n",
       "      <td>12.0</td>\n",
       "      <td>12.0</td>\n",
       "      <td>10467.000000</td>\n",
       "      <td>547.636364</td>\n",
       "      <td>1.272727</td>\n",
       "      <td>0.0</td>\n",
       "      <td>0.0</td>\n",
       "      <td>0.0</td>\n",
       "      <td>40.823803</td>\n",
       "      <td>-73.866087</td>\n",
       "    </tr>\n",
       "    <tr>\n",
       "      <th>8</th>\n",
       "      <td>09</td>\n",
       "      <td>373.755970</td>\n",
       "      <td>383.582836</td>\n",
       "      <td>374.633134</td>\n",
       "      <td>1131.971940</td>\n",
       "      <td>71.411538</td>\n",
       "      <td>104.265385</td>\n",
       "      <td>98.470000</td>\n",
       "      <td>113.330645</td>\n",
       "      <td>9.0</td>\n",
       "      <td>...</td>\n",
       "      <td>12.0</td>\n",
       "      <td>12.0</td>\n",
       "      <td>10456.100000</td>\n",
       "      <td>449.700000</td>\n",
       "      <td>1.150000</td>\n",
       "      <td>0.0</td>\n",
       "      <td>0.0</td>\n",
       "      <td>0.0</td>\n",
       "      <td>40.836349</td>\n",
       "      <td>-73.906240</td>\n",
       "    </tr>\n",
       "    <tr>\n",
       "      <th>9</th>\n",
       "      <td>10</td>\n",
       "      <td>403.363636</td>\n",
       "      <td>418.000000</td>\n",
       "      <td>400.863636</td>\n",
       "      <td>1222.227273</td>\n",
       "      <td>132.231206</td>\n",
       "      <td>226.914336</td>\n",
       "      <td>191.618182</td>\n",
       "      <td>161.318182</td>\n",
       "      <td>10.0</td>\n",
       "      <td>...</td>\n",
       "      <td>12.0</td>\n",
       "      <td>12.0</td>\n",
       "      <td>10463.181818</td>\n",
       "      <td>757.863636</td>\n",
       "      <td>1.500000</td>\n",
       "      <td>0.0</td>\n",
       "      <td>0.0</td>\n",
       "      <td>0.0</td>\n",
       "      <td>40.870345</td>\n",
       "      <td>-73.898360</td>\n",
       "    </tr>\n",
       "    <tr>\n",
       "      <th>10</th>\n",
       "      <td>11</td>\n",
       "      <td>389.866667</td>\n",
       "      <td>394.533333</td>\n",
       "      <td>380.600000</td>\n",
       "      <td>1165.000000</td>\n",
       "      <td>83.813462</td>\n",
       "      <td>122.484615</td>\n",
       "      <td>108.833333</td>\n",
       "      <td>122.866667</td>\n",
       "      <td>11.0</td>\n",
       "      <td>...</td>\n",
       "      <td>12.0</td>\n",
       "      <td>12.0</td>\n",
       "      <td>10467.933333</td>\n",
       "      <td>563.666667</td>\n",
       "      <td>1.533333</td>\n",
       "      <td>0.0</td>\n",
       "      <td>0.0</td>\n",
       "      <td>0.0</td>\n",
       "      <td>40.873138</td>\n",
       "      <td>-73.856120</td>\n",
       "    </tr>\n",
       "    <tr>\n",
       "      <th>11</th>\n",
       "      <td>12</td>\n",
       "      <td>364.769900</td>\n",
       "      <td>379.109453</td>\n",
       "      <td>357.943781</td>\n",
       "      <td>1101.823134</td>\n",
       "      <td>93.102564</td>\n",
       "      <td>139.442308</td>\n",
       "      <td>153.450000</td>\n",
       "      <td>110.467742</td>\n",
       "      <td>12.0</td>\n",
       "      <td>...</td>\n",
       "      <td>12.0</td>\n",
       "      <td>12.0</td>\n",
       "      <td>10463.166667</td>\n",
       "      <td>409.000000</td>\n",
       "      <td>1.083333</td>\n",
       "      <td>0.0</td>\n",
       "      <td>0.0</td>\n",
       "      <td>0.0</td>\n",
       "      <td>40.831412</td>\n",
       "      <td>-73.886946</td>\n",
       "    </tr>\n",
       "    <tr>\n",
       "      <th>12</th>\n",
       "      <td>13</td>\n",
       "      <td>409.393800</td>\n",
       "      <td>424.127440</td>\n",
       "      <td>403.666361</td>\n",
       "      <td>1237.187600</td>\n",
       "      <td>232.931953</td>\n",
       "      <td>382.704142</td>\n",
       "      <td>320.773077</td>\n",
       "      <td>224.595533</td>\n",
       "      <td>13.0</td>\n",
       "      <td>...</td>\n",
       "      <td>12.0</td>\n",
       "      <td>12.0</td>\n",
       "      <td>11207.153846</td>\n",
       "      <td>895.153846</td>\n",
       "      <td>2.076923</td>\n",
       "      <td>0.0</td>\n",
       "      <td>0.0</td>\n",
       "      <td>0.0</td>\n",
       "      <td>40.692865</td>\n",
       "      <td>-73.977016</td>\n",
       "    </tr>\n",
       "    <tr>\n",
       "      <th>13</th>\n",
       "      <td>14</td>\n",
       "      <td>395.937100</td>\n",
       "      <td>398.189765</td>\n",
       "      <td>385.333049</td>\n",
       "      <td>1179.459915</td>\n",
       "      <td>77.798077</td>\n",
       "      <td>114.873626</td>\n",
       "      <td>123.282143</td>\n",
       "      <td>112.347926</td>\n",
       "      <td>14.0</td>\n",
       "      <td>...</td>\n",
       "      <td>12.0</td>\n",
       "      <td>12.0</td>\n",
       "      <td>11210.785714</td>\n",
       "      <td>545.357143</td>\n",
       "      <td>2.000000</td>\n",
       "      <td>0.0</td>\n",
       "      <td>0.0</td>\n",
       "      <td>0.0</td>\n",
       "      <td>40.711599</td>\n",
       "      <td>-73.948360</td>\n",
       "    </tr>\n",
       "    <tr>\n",
       "      <th>14</th>\n",
       "      <td>15</td>\n",
       "      <td>395.679934</td>\n",
       "      <td>404.628524</td>\n",
       "      <td>390.295854</td>\n",
       "      <td>1190.604312</td>\n",
       "      <td>94.574786</td>\n",
       "      <td>141.581197</td>\n",
       "      <td>153.450000</td>\n",
       "      <td>104.207885</td>\n",
       "      <td>15.0</td>\n",
       "      <td>...</td>\n",
       "      <td>12.0</td>\n",
       "      <td>12.0</td>\n",
       "      <td>11214.222222</td>\n",
       "      <td>573.111111</td>\n",
       "      <td>1.666667</td>\n",
       "      <td>0.0</td>\n",
       "      <td>0.0</td>\n",
       "      <td>0.0</td>\n",
       "      <td>40.675972</td>\n",
       "      <td>-73.989255</td>\n",
       "    </tr>\n",
       "    <tr>\n",
       "      <th>15</th>\n",
       "      <td>16</td>\n",
       "      <td>371.529851</td>\n",
       "      <td>379.164179</td>\n",
       "      <td>369.415672</td>\n",
       "      <td>1120.109701</td>\n",
       "      <td>82.264423</td>\n",
       "      <td>126.519231</td>\n",
       "      <td>153.450000</td>\n",
       "      <td>247.185484</td>\n",
       "      <td>16.0</td>\n",
       "      <td>...</td>\n",
       "      <td>12.0</td>\n",
       "      <td>12.0</td>\n",
       "      <td>11219.000000</td>\n",
       "      <td>440.250000</td>\n",
       "      <td>1.750000</td>\n",
       "      <td>0.0</td>\n",
       "      <td>0.0</td>\n",
       "      <td>0.0</td>\n",
       "      <td>40.688008</td>\n",
       "      <td>-73.929686</td>\n",
       "    </tr>\n",
       "    <tr>\n",
       "      <th>16</th>\n",
       "      <td>17</td>\n",
       "      <td>386.571429</td>\n",
       "      <td>394.071429</td>\n",
       "      <td>380.785714</td>\n",
       "      <td>1161.428571</td>\n",
       "      <td>105.583791</td>\n",
       "      <td>163.087912</td>\n",
       "      <td>111.360714</td>\n",
       "      <td>121.357143</td>\n",
       "      <td>17.0</td>\n",
       "      <td>...</td>\n",
       "      <td>12.0</td>\n",
       "      <td>12.0</td>\n",
       "      <td>11220.642857</td>\n",
       "      <td>547.071429</td>\n",
       "      <td>1.642857</td>\n",
       "      <td>0.0</td>\n",
       "      <td>0.0</td>\n",
       "      <td>0.0</td>\n",
       "      <td>40.660313</td>\n",
       "      <td>-73.955636</td>\n",
       "    </tr>\n",
       "    <tr>\n",
       "      <th>17</th>\n",
       "      <td>18</td>\n",
       "      <td>373.454545</td>\n",
       "      <td>373.090909</td>\n",
       "      <td>371.454545</td>\n",
       "      <td>1118.000000</td>\n",
       "      <td>129.028846</td>\n",
       "      <td>197.038462</td>\n",
       "      <td>153.450000</td>\n",
       "      <td>72.771261</td>\n",
       "      <td>18.0</td>\n",
       "      <td>...</td>\n",
       "      <td>12.0</td>\n",
       "      <td>12.0</td>\n",
       "      <td>11224.000000</td>\n",
       "      <td>344.000000</td>\n",
       "      <td>1.090909</td>\n",
       "      <td>0.0</td>\n",
       "      <td>0.0</td>\n",
       "      <td>0.0</td>\n",
       "      <td>40.641863</td>\n",
       "      <td>-73.914726</td>\n",
       "    </tr>\n",
       "    <tr>\n",
       "      <th>18</th>\n",
       "      <td>19</td>\n",
       "      <td>367.083333</td>\n",
       "      <td>377.583333</td>\n",
       "      <td>359.166667</td>\n",
       "      <td>1103.833333</td>\n",
       "      <td>88.097756</td>\n",
       "      <td>124.769231</td>\n",
       "      <td>120.670833</td>\n",
       "      <td>114.322581</td>\n",
       "      <td>19.0</td>\n",
       "      <td>...</td>\n",
       "      <td>12.0</td>\n",
       "      <td>12.0</td>\n",
       "      <td>11207.500000</td>\n",
       "      <td>440.416667</td>\n",
       "      <td>1.916667</td>\n",
       "      <td>0.0</td>\n",
       "      <td>0.0</td>\n",
       "      <td>0.0</td>\n",
       "      <td>40.676547</td>\n",
       "      <td>-73.882158</td>\n",
       "    </tr>\n",
       "    <tr>\n",
       "      <th>19</th>\n",
       "      <td>20</td>\n",
       "      <td>406.223881</td>\n",
       "      <td>465.731343</td>\n",
       "      <td>401.732537</td>\n",
       "      <td>1273.687761</td>\n",
       "      <td>227.805769</td>\n",
       "      <td>359.407692</td>\n",
       "      <td>177.690000</td>\n",
       "      <td>591.374194</td>\n",
       "      <td>20.0</td>\n",
       "      <td>...</td>\n",
       "      <td>12.0</td>\n",
       "      <td>12.0</td>\n",
       "      <td>11210.200000</td>\n",
       "      <td>2521.400000</td>\n",
       "      <td>3.800000</td>\n",
       "      <td>0.0</td>\n",
       "      <td>0.0</td>\n",
       "      <td>0.0</td>\n",
       "      <td>40.626751</td>\n",
       "      <td>-74.006191</td>\n",
       "    </tr>\n",
       "    <tr>\n",
       "      <th>20</th>\n",
       "      <td>21</td>\n",
       "      <td>395.283582</td>\n",
       "      <td>421.786974</td>\n",
       "      <td>389.242062</td>\n",
       "      <td>1206.312619</td>\n",
       "      <td>135.467657</td>\n",
       "      <td>203.835664</td>\n",
       "      <td>142.377273</td>\n",
       "      <td>275.351906</td>\n",
       "      <td>21.0</td>\n",
       "      <td>...</td>\n",
       "      <td>12.0</td>\n",
       "      <td>12.0</td>\n",
       "      <td>11221.000000</td>\n",
       "      <td>1098.272727</td>\n",
       "      <td>3.272727</td>\n",
       "      <td>0.0</td>\n",
       "      <td>0.0</td>\n",
       "      <td>0.0</td>\n",
       "      <td>40.593596</td>\n",
       "      <td>-73.978465</td>\n",
       "    </tr>\n",
       "    <tr>\n",
       "      <th>21</th>\n",
       "      <td>22</td>\n",
       "      <td>473.500000</td>\n",
       "      <td>502.750000</td>\n",
       "      <td>474.250000</td>\n",
       "      <td>1450.500000</td>\n",
       "      <td>391.007212</td>\n",
       "      <td>614.509615</td>\n",
       "      <td>370.362500</td>\n",
       "      <td>580.250000</td>\n",
       "      <td>22.0</td>\n",
       "      <td>...</td>\n",
       "      <td>12.0</td>\n",
       "      <td>12.0</td>\n",
       "      <td>11223.000000</td>\n",
       "      <td>2149.000000</td>\n",
       "      <td>2.250000</td>\n",
       "      <td>0.0</td>\n",
       "      <td>0.0</td>\n",
       "      <td>0.0</td>\n",
       "      <td>40.618285</td>\n",
       "      <td>-73.952288</td>\n",
       "    </tr>\n",
       "    <tr>\n",
       "      <th>22</th>\n",
       "      <td>23</td>\n",
       "      <td>380.666667</td>\n",
       "      <td>398.666667</td>\n",
       "      <td>378.000000</td>\n",
       "      <td>1157.333333</td>\n",
       "      <td>29.000000</td>\n",
       "      <td>31.000000</td>\n",
       "      <td>153.450000</td>\n",
       "      <td>87.000000</td>\n",
       "      <td>23.0</td>\n",
       "      <td>...</td>\n",
       "      <td>12.0</td>\n",
       "      <td>12.0</td>\n",
       "      <td>11219.000000</td>\n",
       "      <td>391.000000</td>\n",
       "      <td>1.333333</td>\n",
       "      <td>0.0</td>\n",
       "      <td>0.0</td>\n",
       "      <td>0.0</td>\n",
       "      <td>40.668586</td>\n",
       "      <td>-73.912298</td>\n",
       "    </tr>\n",
       "    <tr>\n",
       "      <th>23</th>\n",
       "      <td>24</td>\n",
       "      <td>405.846154</td>\n",
       "      <td>434.000000</td>\n",
       "      <td>402.153846</td>\n",
       "      <td>1242.000000</td>\n",
       "      <td>126.474852</td>\n",
       "      <td>179.094675</td>\n",
       "      <td>115.165385</td>\n",
       "      <td>234.682382</td>\n",
       "      <td>24.0</td>\n",
       "      <td>...</td>\n",
       "      <td>12.0</td>\n",
       "      <td>12.0</td>\n",
       "      <td>11206.153846</td>\n",
       "      <td>962.461538</td>\n",
       "      <td>2.230769</td>\n",
       "      <td>0.0</td>\n",
       "      <td>0.0</td>\n",
       "      <td>0.0</td>\n",
       "      <td>40.740621</td>\n",
       "      <td>-73.911518</td>\n",
       "    </tr>\n",
       "    <tr>\n",
       "      <th>24</th>\n",
       "      <td>25</td>\n",
       "      <td>437.250000</td>\n",
       "      <td>483.500000</td>\n",
       "      <td>436.250000</td>\n",
       "      <td>1357.000000</td>\n",
       "      <td>205.260817</td>\n",
       "      <td>279.889423</td>\n",
       "      <td>174.793750</td>\n",
       "      <td>268.733871</td>\n",
       "      <td>25.0</td>\n",
       "      <td>...</td>\n",
       "      <td>12.0</td>\n",
       "      <td>12.0</td>\n",
       "      <td>11361.000000</td>\n",
       "      <td>1288.875000</td>\n",
       "      <td>1.875000</td>\n",
       "      <td>0.0</td>\n",
       "      <td>0.0</td>\n",
       "      <td>0.0</td>\n",
       "      <td>40.745414</td>\n",
       "      <td>-73.815558</td>\n",
       "    </tr>\n",
       "    <tr>\n",
       "      <th>25</th>\n",
       "      <td>26</td>\n",
       "      <td>445.200000</td>\n",
       "      <td>487.600000</td>\n",
       "      <td>444.800000</td>\n",
       "      <td>1377.600000</td>\n",
       "      <td>410.605769</td>\n",
       "      <td>632.407692</td>\n",
       "      <td>392.090000</td>\n",
       "      <td>825.600000</td>\n",
       "      <td>26.0</td>\n",
       "      <td>...</td>\n",
       "      <td>12.0</td>\n",
       "      <td>12.0</td>\n",
       "      <td>11388.600000</td>\n",
       "      <td>2837.400000</td>\n",
       "      <td>4.600000</td>\n",
       "      <td>0.0</td>\n",
       "      <td>0.0</td>\n",
       "      <td>0.0</td>\n",
       "      <td>40.748507</td>\n",
       "      <td>-73.759176</td>\n",
       "    </tr>\n",
       "    <tr>\n",
       "      <th>26</th>\n",
       "      <td>27</td>\n",
       "      <td>407.800000</td>\n",
       "      <td>422.200000</td>\n",
       "      <td>394.300000</td>\n",
       "      <td>1224.300000</td>\n",
       "      <td>100.611538</td>\n",
       "      <td>145.315385</td>\n",
       "      <td>95.125000</td>\n",
       "      <td>288.961290</td>\n",
       "      <td>27.0</td>\n",
       "      <td>...</td>\n",
       "      <td>12.0</td>\n",
       "      <td>12.0</td>\n",
       "      <td>11556.300000</td>\n",
       "      <td>1072.000000</td>\n",
       "      <td>2.500000</td>\n",
       "      <td>0.0</td>\n",
       "      <td>0.0</td>\n",
       "      <td>0.0</td>\n",
       "      <td>40.638828</td>\n",
       "      <td>-73.807823</td>\n",
       "    </tr>\n",
       "    <tr>\n",
       "      <th>27</th>\n",
       "      <td>28</td>\n",
       "      <td>445.941655</td>\n",
       "      <td>465.997286</td>\n",
       "      <td>435.908005</td>\n",
       "      <td>1347.846947</td>\n",
       "      <td>182.010490</td>\n",
       "      <td>273.559441</td>\n",
       "      <td>175.336364</td>\n",
       "      <td>351.214076</td>\n",
       "      <td>28.0</td>\n",
       "      <td>...</td>\n",
       "      <td>12.0</td>\n",
       "      <td>12.0</td>\n",
       "      <td>11422.000000</td>\n",
       "      <td>1304.272727</td>\n",
       "      <td>2.545455</td>\n",
       "      <td>0.0</td>\n",
       "      <td>0.0</td>\n",
       "      <td>0.0</td>\n",
       "      <td>40.709344</td>\n",
       "      <td>-73.806367</td>\n",
       "    </tr>\n",
       "    <tr>\n",
       "      <th>28</th>\n",
       "      <td>29</td>\n",
       "      <td>395.764925</td>\n",
       "      <td>399.457090</td>\n",
       "      <td>386.707836</td>\n",
       "      <td>1181.929851</td>\n",
       "      <td>63.385817</td>\n",
       "      <td>96.514423</td>\n",
       "      <td>135.268750</td>\n",
       "      <td>98.108871</td>\n",
       "      <td>29.0</td>\n",
       "      <td>...</td>\n",
       "      <td>12.0</td>\n",
       "      <td>12.0</td>\n",
       "      <td>11413.625000</td>\n",
       "      <td>474.125000</td>\n",
       "      <td>1.250000</td>\n",
       "      <td>0.0</td>\n",
       "      <td>0.0</td>\n",
       "      <td>0.0</td>\n",
       "      <td>40.685276</td>\n",
       "      <td>-73.752740</td>\n",
       "    </tr>\n",
       "    <tr>\n",
       "      <th>29</th>\n",
       "      <td>30</td>\n",
       "      <td>430.679934</td>\n",
       "      <td>465.961857</td>\n",
       "      <td>429.740299</td>\n",
       "      <td>1326.382090</td>\n",
       "      <td>157.231838</td>\n",
       "      <td>252.123932</td>\n",
       "      <td>115.150000</td>\n",
       "      <td>310.526882</td>\n",
       "      <td>30.0</td>\n",
       "      <td>...</td>\n",
       "      <td>12.0</td>\n",
       "      <td>12.0</td>\n",
       "      <td>11103.000000</td>\n",
       "      <td>1123.333333</td>\n",
       "      <td>2.555556</td>\n",
       "      <td>0.0</td>\n",
       "      <td>0.0</td>\n",
       "      <td>0.0</td>\n",
       "      <td>40.755398</td>\n",
       "      <td>-73.932306</td>\n",
       "    </tr>\n",
       "    <tr>\n",
       "      <th>30</th>\n",
       "      <td>31</td>\n",
       "      <td>457.500000</td>\n",
       "      <td>472.500000</td>\n",
       "      <td>452.500000</td>\n",
       "      <td>1382.500000</td>\n",
       "      <td>228.908654</td>\n",
       "      <td>355.111538</td>\n",
       "      <td>194.435000</td>\n",
       "      <td>450.787097</td>\n",
       "      <td>31.0</td>\n",
       "      <td>...</td>\n",
       "      <td>12.0</td>\n",
       "      <td>12.0</td>\n",
       "      <td>10307.100000</td>\n",
       "      <td>1847.500000</td>\n",
       "      <td>5.000000</td>\n",
       "      <td>0.0</td>\n",
       "      <td>0.0</td>\n",
       "      <td>0.0</td>\n",
       "      <td>40.595680</td>\n",
       "      <td>-74.125726</td>\n",
       "    </tr>\n",
       "    <tr>\n",
       "      <th>31</th>\n",
       "      <td>32</td>\n",
       "      <td>371.500000</td>\n",
       "      <td>385.833333</td>\n",
       "      <td>362.166667</td>\n",
       "      <td>1119.500000</td>\n",
       "      <td>70.342949</td>\n",
       "      <td>100.179487</td>\n",
       "      <td>83.558333</td>\n",
       "      <td>105.333333</td>\n",
       "      <td>32.0</td>\n",
       "      <td>...</td>\n",
       "      <td>12.0</td>\n",
       "      <td>12.0</td>\n",
       "      <td>11231.666667</td>\n",
       "      <td>381.500000</td>\n",
       "      <td>1.000000</td>\n",
       "      <td>0.0</td>\n",
       "      <td>0.0</td>\n",
       "      <td>0.0</td>\n",
       "      <td>40.696295</td>\n",
       "      <td>-73.917124</td>\n",
       "    </tr>\n",
       "  </tbody>\n",
       "</table>\n",
       "<p>32 rows × 68 columns</p>\n",
       "</div>"
      ],
      "text/plain": [
       "   school_dist  SAT Critical Reading Avg. Score  SAT Math Avg. Score  \\\n",
       "0           01                       441.833333           473.333333   \n",
       "1           02                       426.619092           444.186256   \n",
       "2           03                       428.529851           437.997512   \n",
       "3           04                       402.142857           416.285714   \n",
       "4           05                       427.159915           438.236674   \n",
       "5           06                       382.011940           400.565672   \n",
       "6           07                       376.461538           380.461538   \n",
       "7           08                       386.214383           395.542741   \n",
       "8           09                       373.755970           383.582836   \n",
       "9           10                       403.363636           418.000000   \n",
       "10          11                       389.866667           394.533333   \n",
       "11          12                       364.769900           379.109453   \n",
       "12          13                       409.393800           424.127440   \n",
       "13          14                       395.937100           398.189765   \n",
       "14          15                       395.679934           404.628524   \n",
       "15          16                       371.529851           379.164179   \n",
       "16          17                       386.571429           394.071429   \n",
       "17          18                       373.454545           373.090909   \n",
       "18          19                       367.083333           377.583333   \n",
       "19          20                       406.223881           465.731343   \n",
       "20          21                       395.283582           421.786974   \n",
       "21          22                       473.500000           502.750000   \n",
       "22          23                       380.666667           398.666667   \n",
       "23          24                       405.846154           434.000000   \n",
       "24          25                       437.250000           483.500000   \n",
       "25          26                       445.200000           487.600000   \n",
       "26          27                       407.800000           422.200000   \n",
       "27          28                       445.941655           465.997286   \n",
       "28          29                       395.764925           399.457090   \n",
       "29          30                       430.679934           465.961857   \n",
       "30          31                       457.500000           472.500000   \n",
       "31          32                       371.500000           385.833333   \n",
       "\n",
       "    SAT Writing Avg. Score    sat_score  AP Test Takers   Total Exams Taken  \\\n",
       "0               439.333333  1354.500000       116.681090         173.019231   \n",
       "1               424.832836  1295.638184       128.908454         201.516827   \n",
       "2               426.915672  1293.443035       156.183494         244.522436   \n",
       "3               405.714286  1224.142857       129.016484         183.879121   \n",
       "4               419.666098  1285.062687        85.722527         115.725275   \n",
       "5               382.066269  1164.643881       108.711538         159.715385   \n",
       "6               371.923077  1128.846154        73.703402         112.476331   \n",
       "7               377.908005  1159.665129       118.379371         168.020979   \n",
       "8               374.633134  1131.971940        71.411538         104.265385   \n",
       "9               400.863636  1222.227273       132.231206         226.914336   \n",
       "10              380.600000  1165.000000        83.813462         122.484615   \n",
       "11              357.943781  1101.823134        93.102564         139.442308   \n",
       "12              403.666361  1237.187600       232.931953         382.704142   \n",
       "13              385.333049  1179.459915        77.798077         114.873626   \n",
       "14              390.295854  1190.604312        94.574786         141.581197   \n",
       "15              369.415672  1120.109701        82.264423         126.519231   \n",
       "16              380.785714  1161.428571       105.583791         163.087912   \n",
       "17              371.454545  1118.000000       129.028846         197.038462   \n",
       "18              359.166667  1103.833333        88.097756         124.769231   \n",
       "19              401.732537  1273.687761       227.805769         359.407692   \n",
       "20              389.242062  1206.312619       135.467657         203.835664   \n",
       "21              474.250000  1450.500000       391.007212         614.509615   \n",
       "22              378.000000  1157.333333        29.000000          31.000000   \n",
       "23              402.153846  1242.000000       126.474852         179.094675   \n",
       "24              436.250000  1357.000000       205.260817         279.889423   \n",
       "25              444.800000  1377.600000       410.605769         632.407692   \n",
       "26              394.300000  1224.300000       100.611538         145.315385   \n",
       "27              435.908005  1347.846947       182.010490         273.559441   \n",
       "28              386.707836  1181.929851        63.385817          96.514423   \n",
       "29              429.740299  1326.382090       157.231838         252.123932   \n",
       "30              452.500000  1382.500000       228.908654         355.111538   \n",
       "31              362.166667  1119.500000        70.342949         100.179487   \n",
       "\n",
       "    Number of Exams with scores 3 4 or 5  Total Cohort   CSD    ...      \\\n",
       "0                             135.800000     93.500000   1.0    ...       \n",
       "1                             157.495833    158.647849   2.0    ...       \n",
       "2                             193.087500    183.384409   3.0    ...       \n",
       "3                             151.035714    113.857143   4.0    ...       \n",
       "4                             142.464286    143.677419   5.0    ...       \n",
       "5                             105.425000    180.848387   6.0    ...       \n",
       "6                             105.276923    105.605459   7.0    ...       \n",
       "7                             144.731818    215.510264   8.0    ...       \n",
       "8                              98.470000    113.330645   9.0    ...       \n",
       "9                             191.618182    161.318182  10.0    ...       \n",
       "10                            108.833333    122.866667  11.0    ...       \n",
       "11                            153.450000    110.467742  12.0    ...       \n",
       "12                            320.773077    224.595533  13.0    ...       \n",
       "13                            123.282143    112.347926  14.0    ...       \n",
       "14                            153.450000    104.207885  15.0    ...       \n",
       "15                            153.450000    247.185484  16.0    ...       \n",
       "16                            111.360714    121.357143  17.0    ...       \n",
       "17                            153.450000     72.771261  18.0    ...       \n",
       "18                            120.670833    114.322581  19.0    ...       \n",
       "19                            177.690000    591.374194  20.0    ...       \n",
       "20                            142.377273    275.351906  21.0    ...       \n",
       "21                            370.362500    580.250000  22.0    ...       \n",
       "22                            153.450000     87.000000  23.0    ...       \n",
       "23                            115.165385    234.682382  24.0    ...       \n",
       "24                            174.793750    268.733871  25.0    ...       \n",
       "25                            392.090000    825.600000  26.0    ...       \n",
       "26                             95.125000    288.961290  27.0    ...       \n",
       "27                            175.336364    351.214076  28.0    ...       \n",
       "28                            135.268750     98.108871  29.0    ...       \n",
       "29                            115.150000    310.526882  30.0    ...       \n",
       "30                            194.435000    450.787097  31.0    ...       \n",
       "31                             83.558333    105.333333  32.0    ...       \n",
       "\n",
       "    grade_span_max  expgrade_span_max           zip  total_students  \\\n",
       "0             12.0               12.0  10003.166667      659.500000   \n",
       "1             12.0               12.0  10023.770833      621.395833   \n",
       "2             12.0               12.0  10023.750000      717.916667   \n",
       "3             12.0               12.0  10029.857143      580.857143   \n",
       "4             12.0               12.0  10030.142857      609.857143   \n",
       "5             12.0               12.0  10036.200000      628.900000   \n",
       "6             12.0               12.0  10452.692308      465.846154   \n",
       "7             12.0               12.0  10467.000000      547.636364   \n",
       "8             12.0               12.0  10456.100000      449.700000   \n",
       "9             12.0               12.0  10463.181818      757.863636   \n",
       "10            12.0               12.0  10467.933333      563.666667   \n",
       "11            12.0               12.0  10463.166667      409.000000   \n",
       "12            12.0               12.0  11207.153846      895.153846   \n",
       "13            12.0               12.0  11210.785714      545.357143   \n",
       "14            12.0               12.0  11214.222222      573.111111   \n",
       "15            12.0               12.0  11219.000000      440.250000   \n",
       "16            12.0               12.0  11220.642857      547.071429   \n",
       "17            12.0               12.0  11224.000000      344.000000   \n",
       "18            12.0               12.0  11207.500000      440.416667   \n",
       "19            12.0               12.0  11210.200000     2521.400000   \n",
       "20            12.0               12.0  11221.000000     1098.272727   \n",
       "21            12.0               12.0  11223.000000     2149.000000   \n",
       "22            12.0               12.0  11219.000000      391.000000   \n",
       "23            12.0               12.0  11206.153846      962.461538   \n",
       "24            12.0               12.0  11361.000000     1288.875000   \n",
       "25            12.0               12.0  11388.600000     2837.400000   \n",
       "26            12.0               12.0  11556.300000     1072.000000   \n",
       "27            12.0               12.0  11422.000000     1304.272727   \n",
       "28            12.0               12.0  11413.625000      474.125000   \n",
       "29            12.0               12.0  11103.000000     1123.333333   \n",
       "30            12.0               12.0  10307.100000     1847.500000   \n",
       "31            12.0               12.0  11231.666667      381.500000   \n",
       "\n",
       "    number_programs  priority08  priority09  priority10        lat        lon  \n",
       "0          1.333333         0.0         0.0         0.0  40.719022 -73.982377  \n",
       "1          1.416667         0.0         0.0         0.0  40.739699 -73.991386  \n",
       "2          2.000000         0.0         0.0         0.0  40.781574 -73.977370  \n",
       "3          1.142857         0.0         0.0         0.0  40.793449 -73.943215  \n",
       "4          1.142857         0.0         0.0         0.0  40.817077 -73.949251  \n",
       "5          1.300000         0.0         0.0         0.0  40.848970 -73.932502  \n",
       "6          1.461538         0.0         0.0         0.0  40.816815 -73.919971  \n",
       "7          1.272727         0.0         0.0         0.0  40.823803 -73.866087  \n",
       "8          1.150000         0.0         0.0         0.0  40.836349 -73.906240  \n",
       "9          1.500000         0.0         0.0         0.0  40.870345 -73.898360  \n",
       "10         1.533333         0.0         0.0         0.0  40.873138 -73.856120  \n",
       "11         1.083333         0.0         0.0         0.0  40.831412 -73.886946  \n",
       "12         2.076923         0.0         0.0         0.0  40.692865 -73.977016  \n",
       "13         2.000000         0.0         0.0         0.0  40.711599 -73.948360  \n",
       "14         1.666667         0.0         0.0         0.0  40.675972 -73.989255  \n",
       "15         1.750000         0.0         0.0         0.0  40.688008 -73.929686  \n",
       "16         1.642857         0.0         0.0         0.0  40.660313 -73.955636  \n",
       "17         1.090909         0.0         0.0         0.0  40.641863 -73.914726  \n",
       "18         1.916667         0.0         0.0         0.0  40.676547 -73.882158  \n",
       "19         3.800000         0.0         0.0         0.0  40.626751 -74.006191  \n",
       "20         3.272727         0.0         0.0         0.0  40.593596 -73.978465  \n",
       "21         2.250000         0.0         0.0         0.0  40.618285 -73.952288  \n",
       "22         1.333333         0.0         0.0         0.0  40.668586 -73.912298  \n",
       "23         2.230769         0.0         0.0         0.0  40.740621 -73.911518  \n",
       "24         1.875000         0.0         0.0         0.0  40.745414 -73.815558  \n",
       "25         4.600000         0.0         0.0         0.0  40.748507 -73.759176  \n",
       "26         2.500000         0.0         0.0         0.0  40.638828 -73.807823  \n",
       "27         2.545455         0.0         0.0         0.0  40.709344 -73.806367  \n",
       "28         1.250000         0.0         0.0         0.0  40.685276 -73.752740  \n",
       "29         2.555556         0.0         0.0         0.0  40.755398 -73.932306  \n",
       "30         5.000000         0.0         0.0         0.0  40.595680 -74.125726  \n",
       "31         1.000000         0.0         0.0         0.0  40.696295 -73.917124  \n",
       "\n",
       "[32 rows x 68 columns]"
      ]
     },
     "execution_count": 54,
     "metadata": {},
     "output_type": "execute_result"
    }
   ],
   "source": [
    "#groupby district and take the mean of every column\n",
    "district = combined.groupby(combined['school_dist']).agg(numpy.mean)\n",
    "district.reset_index(inplace = True)\n",
    "district"
   ]
  },
  {
   "cell_type": "code",
   "execution_count": 55,
   "metadata": {
    "collapsed": false
   },
   "outputs": [],
   "source": [
    "import matplotlib.pyplot as plt\n",
    "from mpl_toolkits.basemap import Basemap"
   ]
  },
  {
   "cell_type": "code",
   "execution_count": 56,
   "metadata": {
    "collapsed": false
   },
   "outputs": [
    {
     "data": {
      "image/png": "[encoded data removed]",
      "text/plain": [
       "<matplotlib.figure.Figure at 0x7fe1d5f78b38>"
      ]
     },
     "metadata": {},
     "output_type": "display_data"
    }
   ],
   "source": [
    "# create variable with type of projection, resolution, and the latitiude and longitudes of the plot\n",
    "m = Basemap(\n",
    "    projection = 'merc',\n",
    "    resolution = 'i',\n",
    "    llcrnrlat=40.496044, \n",
    "    urcrnrlat=40.915256, \n",
    "    llcrnrlon=-74.255735, \n",
    "    urcrnrlon=-73.700272\n",
    ")\n",
    "\n",
    "# draw in boundaries, coastlines, rivers, and fill the continent with a color. \n",
    "m.drawmapboundary(fill_color='#85A6D9')\n",
    "m.drawcoastlines(color='#6D5F47', linewidth=.4)\n",
    "m.drawrivers(color='#6D5F47', linewidth=.4)\n",
    "m.fillcontinents(color='white',lake_color='#85A6D9')\n",
    "\n",
    "# change the lon and lat to lists called longitude and latitude respectively\n",
    "# scatter only takes series. if just \"district['lon']\", then still a pandas dataframe\n",
    "# must convert to series (list) first\n",
    "\n",
    "longitude = district['lon'].tolist()\n",
    "latitude = district['lat'].tolist()\n",
    "\n",
    "# create a colored scatter plot\n",
    "# longitude first, then latitude\n",
    "# s is size of bullet\n",
    "# zorder determines where the method draws the points on the z axis. \n",
    "# In other words, it determines the order of the layers on the map.\n",
    "# c is color sequence\n",
    "# cmap is color map\n",
    "m.scatter(longitude, latitude, s=50, zorder=2, latlon = True, c= district['saf_s_11'], cmap='summer')\n",
    "plt.show()"
   ]
  },
  {
   "cell_type": "markdown",
   "metadata": {
    "collapsed": true
   },
   "source": [
    "Upper Manhattan and parts of Queens and the Bronx tend to have higher safety scores. Brooklyn has low safety scores."
   ]
  },
  {
   "cell_type": "code",
   "execution_count": null,
   "metadata": {
    "collapsed": true
   },
   "outputs": [],
   "source": []
  },
  {
   "cell_type": "markdown",
   "metadata": {},
   "source": [
    "# Investigate Racial differences"
   ]
  },
  {
   "cell_type": "code",
   "execution_count": 57,
   "metadata": {
    "collapsed": true
   },
   "outputs": [],
   "source": [
    "race = ['white_per', 'asian_per', 'black_per', 'hispanic_per']"
   ]
  },
  {
   "cell_type": "code",
   "execution_count": 58,
   "metadata": {
    "collapsed": false
   },
   "outputs": [],
   "source": [
    "race_corr = combined.corr()['sat_score'][race]"
   ]
  },
  {
   "cell_type": "code",
   "execution_count": 59,
   "metadata": {
    "collapsed": false
   },
   "outputs": [
    {
     "data": {
      "text/plain": [
       "<matplotlib.axes._subplots.AxesSubplot at 0x7fe1d1625978>"
      ]
     },
     "execution_count": 59,
     "metadata": {},
     "output_type": "execute_result"
    },
    {
     "data": {
      "image/png": "[encoded data removed]",
      "text/plain": [
       "<matplotlib.figure.Figure at 0x7fe1d321c208>"
      ]
     },
     "metadata": {},
     "output_type": "display_data"
    }
   ],
   "source": [
    "race_corr.plot(kind='bar')"
   ]
  },
  {
   "cell_type": "markdown",
   "metadata": {},
   "source": [
    "Seems like schools with a higher percentage of white and asian students are corrleated with higher SAT scores. Schools with higher black and hispanic percentages are corrrelated with lower SAT scores. Could be due to lack of funding or different neighborhoods where said schools are located"
   ]
  },
  {
   "cell_type": "markdown",
   "metadata": {},
   "source": [
    "# Do a deeper dive into schools with a higher hispanic percentage"
   ]
  },
  {
   "cell_type": "code",
   "execution_count": 60,
   "metadata": {
    "collapsed": false
   },
   "outputs": [
    {
     "data": {
      "text/plain": [
       "<matplotlib.axes._subplots.AxesSubplot at 0x7fe1d31c7a90>"
      ]
     },
     "execution_count": 60,
     "metadata": {},
     "output_type": "execute_result"
    },
    {
     "data": {
      "image/png": "[encoded data removed]",
      "text/plain": [
       "<matplotlib.figure.Figure at 0x7fe1d31ad358>"
      ]
     },
     "metadata": {},
     "output_type": "display_data"
    }
   ],
   "source": [
    "combined.plot('hispanic_per', 'sat_score', kind= 'scatter')"
   ]
  },
  {
   "cell_type": "markdown",
   "metadata": {},
   "source": [
    "Some correlation, but it doesn't seem definitive. Low scores throughout the hispanic percentage "
   ]
  },
  {
   "cell_type": "code",
   "execution_count": 61,
   "metadata": {
    "collapsed": false
   },
   "outputs": [
    {
     "data": {
      "text/html": [
       "<div>\n",
       "<style scoped>\n",
       "    .dataframe tbody tr th:only-of-type {\n",
       "        vertical-align: middle;\n",
       "    }\n",
       "\n",
       "    .dataframe tbody tr th {\n",
       "        vertical-align: top;\n",
       "    }\n",
       "\n",
       "    .dataframe thead th {\n",
       "        text-align: right;\n",
       "    }\n",
       "</style>\n",
       "<table border=\"1\" class=\"dataframe\">\n",
       "  <thead>\n",
       "    <tr style=\"text-align: right;\">\n",
       "      <th></th>\n",
       "      <th>SCHOOL NAME</th>\n",
       "      <th>SchoolName</th>\n",
       "    </tr>\n",
       "  </thead>\n",
       "  <tbody>\n",
       "    <tr>\n",
       "      <th>0</th>\n",
       "      <td>HENRY STREET SCHOOL FOR INTERNATIONAL STUDIES</td>\n",
       "      <td>0</td>\n",
       "    </tr>\n",
       "    <tr>\n",
       "      <th>1</th>\n",
       "      <td>UNIVERSITY NEIGHBORHOOD HIGH SCHOOL</td>\n",
       "      <td>UNIVERSITY NEIGHBORHOOD H.S.</td>\n",
       "    </tr>\n",
       "    <tr>\n",
       "      <th>2</th>\n",
       "      <td>EAST SIDE COMMUNITY SCHOOL</td>\n",
       "      <td>EAST SIDE COMMUNITY HS</td>\n",
       "    </tr>\n",
       "    <tr>\n",
       "      <th>3</th>\n",
       "      <td>MARTA VALLE HIGH SCHOOL</td>\n",
       "      <td>0</td>\n",
       "    </tr>\n",
       "    <tr>\n",
       "      <th>4</th>\n",
       "      <td>NEW EXPLORATIONS INTO SCIENCE, TECHNOLOGY AND ...</td>\n",
       "      <td>NEW EXPLORATIONS SCI,TECH,MATH</td>\n",
       "    </tr>\n",
       "  </tbody>\n",
       "</table>\n",
       "</div>"
      ],
      "text/plain": [
       "                                         SCHOOL NAME  \\\n",
       "0      HENRY STREET SCHOOL FOR INTERNATIONAL STUDIES   \n",
       "1                UNIVERSITY NEIGHBORHOOD HIGH SCHOOL   \n",
       "2                         EAST SIDE COMMUNITY SCHOOL   \n",
       "3                            MARTA VALLE HIGH SCHOOL   \n",
       "4  NEW EXPLORATIONS INTO SCIENCE, TECHNOLOGY AND ...   \n",
       "\n",
       "                       SchoolName  \n",
       "0                               0  \n",
       "1    UNIVERSITY NEIGHBORHOOD H.S.  \n",
       "2          EAST SIDE COMMUNITY HS  \n",
       "3                               0  \n",
       "4  NEW EXPLORATIONS SCI,TECH,MATH  "
      ]
     },
     "execution_count": 61,
     "metadata": {},
     "output_type": "execute_result"
    }
   ],
   "source": [
    "combined[['SCHOOL NAME', 'SchoolName']].head()"
   ]
  },
  {
   "cell_type": "code",
   "execution_count": 62,
   "metadata": {
    "collapsed": false
   },
   "outputs": [
    {
     "data": {
      "text/plain": [
       "WASHINGTON HEIGHTS EXPEDITIONARY LEARNING SCHOOL            1\n",
       "INTERNATIONAL SCHOOL FOR LIBERAL ARTS                       1\n",
       "PAN AMERICAN INTERNATIONAL HIGH SCHOOL AT MONROE            1\n",
       "MANHATTAN BRIDGES HIGH SCHOOL                               1\n",
       "ACADEMY FOR LANGUAGE AND TECHNOLOGY                         1\n",
       "GREGORIO LUPERON HIGH SCHOOL FOR SCIENCE AND MATHEMATICS    1\n",
       "PAN AMERICAN INTERNATIONAL HIGH SCHOOL                      1\n",
       "MULTICULTURAL HIGH SCHOOL                                   1\n",
       "Name: SCHOOL NAME, dtype: int64"
      ]
     },
     "execution_count": 62,
     "metadata": {},
     "output_type": "execute_result"
    }
   ],
   "source": [
    "combined[combined['hispanic_per'] > 95]['SCHOOL NAME'].value_counts()"
   ]
  },
  {
   "cell_type": "markdown",
   "metadata": {},
   "source": [
    "The schools listed above seem to be geared towards recent immigrants. These schools have a lot of students who are learning English, which would explain the lower SAT scores."
   ]
  },
  {
   "cell_type": "code",
   "execution_count": 63,
   "metadata": {
    "collapsed": false
   },
   "outputs": [
    {
     "data": {
      "text/plain": [
       "BRONX HIGH SCHOOL OF SCIENCE                           1\n",
       "QUEENS HIGH SCHOOL FOR THE SCIENCES AT YORK COLLEGE    1\n",
       "STUYVESANT HIGH SCHOOL                                 1\n",
       "STATEN ISLAND TECHNICAL HIGH SCHOOL                    1\n",
       "BROOKLYN TECHNICAL HIGH SCHOOL                         1\n",
       "Name: SCHOOL NAME, dtype: int64"
      ]
     },
     "execution_count": 63,
     "metadata": {},
     "output_type": "execute_result"
    }
   ],
   "source": [
    "combined[(combined['hispanic_per'] < 10) & (combined['sat_score'] > 1800)]['SCHOOL NAME'].value_counts()"
   ]
  },
  {
   "cell_type": "markdown",
   "metadata": {},
   "source": [
    "Many of the schools above appear to be specialized science and technology schools that receive extra funding, and only admit students who pass an entrance exam. This doesn't explain the low hispanic_per, but it does explain why their students tend to do better on the SAT -- they are students from all over New York City who did well on a standardized test."
   ]
  },
  {
   "cell_type": "markdown",
   "metadata": {},
   "source": [
    "# Investigate Gender Differences"
   ]
  },
  {
   "cell_type": "code",
   "execution_count": 64,
   "metadata": {
    "collapsed": true
   },
   "outputs": [],
   "source": [
    "gender = ['male_per', 'female_per']"
   ]
  },
  {
   "cell_type": "code",
   "execution_count": 65,
   "metadata": {
    "collapsed": false
   },
   "outputs": [],
   "source": [
    "corr_gender = combined.corr()['sat_score'][gender]"
   ]
  },
  {
   "cell_type": "code",
   "execution_count": 66,
   "metadata": {
    "collapsed": false
   },
   "outputs": [
    {
     "data": {
      "text/plain": [
       "<matplotlib.axes._subplots.AxesSubplot at 0x7fe1d31b9cf8>"
      ]
     },
     "execution_count": 66,
     "metadata": {},
     "output_type": "execute_result"
    },
    {
     "data": {
      "image/png": "[encoded data removed]",
      "text/plain": [
       "<matplotlib.figure.Figure at 0x7fe1d31633c8>"
      ]
     },
     "metadata": {},
     "output_type": "display_data"
    }
   ],
   "source": [
    "corr_gender.plot(kind='bar')"
   ]
  },
  {
   "cell_type": "markdown",
   "metadata": {},
   "source": [
    "Seems like males are negatively correlated and females are positvely correlated. a little"
   ]
  },
  {
   "cell_type": "code",
   "execution_count": 67,
   "metadata": {
    "collapsed": false
   },
   "outputs": [
    {
     "data": {
      "text/plain": [
       "<matplotlib.axes._subplots.AxesSubplot at 0x7fe1d54a22e8>"
      ]
     },
     "execution_count": 67,
     "metadata": {},
     "output_type": "execute_result"
    },
    {
     "data": {
      "image/png": "[encoded data removed]",
      "text/plain": [
       "<matplotlib.figure.Figure at 0x7fe1d338ee10>"
      ]
     },
     "metadata": {},
     "output_type": "display_data"
    }
   ],
   "source": [
    "combined.plot('female_per', 'sat_score', kind= 'scatter')"
   ]
  },
  {
   "cell_type": "markdown",
   "metadata": {},
   "source": [
    "Scatterplot is not particularly revealing. There is a small group of schools with between 60 to 80% of females that have high SAT Score "
   ]
  },
  {
   "cell_type": "code",
   "execution_count": 68,
   "metadata": {
    "collapsed": false
   },
   "outputs": [
    {
     "data": {
      "text/plain": [
       "5                         BARD HIGH SCHOOL EARLY COLLEGE\n",
       "26                         ELEANOR ROOSEVELT HIGH SCHOOL\n",
       "60                                    BEACON HIGH SCHOOL\n",
       "61     FIORELLO H. LAGUARDIA HIGH SCHOOL OF MUSIC & A...\n",
       "302                          TOWNSEND HARRIS HIGH SCHOOL\n",
       "Name: SCHOOL NAME, dtype: object"
      ]
     },
     "execution_count": 68,
     "metadata": {},
     "output_type": "execute_result"
    }
   ],
   "source": [
    "combined[(combined['female_per'] > 60) & (combined['sat_score'] > 1700)]['SCHOOL NAME']"
   ]
  },
  {
   "cell_type": "markdown",
   "metadata": {},
   "source": [
    "These schools appears to be very selective liberal arts schools that have high academic standards."
   ]
  },
  {
   "cell_type": "code",
   "execution_count": 69,
   "metadata": {
    "collapsed": false
   },
   "outputs": [],
   "source": [
    "combined['ap_per'] = combined['AP Test Takers '] / combined['total_enrollment']"
   ]
  },
  {
   "cell_type": "code",
   "execution_count": 70,
   "metadata": {
    "collapsed": false
   },
   "outputs": [
    {
     "data": {
      "text/plain": [
       "<matplotlib.axes._subplots.AxesSubplot at 0x7fe1d31d8518>"
      ]
     },
     "execution_count": 70,
     "metadata": {},
     "output_type": "execute_result"
    },
    {
     "data": {
      "image/png": "[encoded data removed]",
      "text/plain": [
       "<matplotlib.figure.Figure at 0x7fe1d2e40e48>"
      ]
     },
     "metadata": {},
     "output_type": "display_data"
    }
   ],
   "source": [
    "combined.plot('ap_per', 'sat_score', kind = 'scatter' )"
   ]
  },
  {
   "cell_type": "markdown",
   "metadata": {},
   "source": [
    "Not a particularly strong correlation, but there is some"
   ]
  },
  {
   "cell_type": "code",
   "execution_count": null,
   "metadata": {
    "collapsed": true
   },
   "outputs": [],
   "source": []
  },
  {
   "cell_type": "markdown",
   "metadata": {
    "collapsed": true
   },
   "source": [
    "# Correlation between Class size and SAT Scores"
   ]
  },
  {
   "cell_type": "code",
   "execution_count": 81,
   "metadata": {
    "collapsed": true
   },
   "outputs": [],
   "source": [
    "class_size = ['AVERAGE CLASS SIZE', 'NUMBER OF STUDENTS / SEATS FILLED']"
   ]
  },
  {
   "cell_type": "code",
   "execution_count": 82,
   "metadata": {
    "collapsed": false,
    "scrolled": true
   },
   "outputs": [
    {
     "data": {
      "text/plain": [
       "AVERAGE CLASS SIZE                   0.381014\n",
       "NUMBER OF STUDENTS / SEATS FILLED    0.394626\n",
       "Name: sat_score, dtype: float64"
      ]
     },
     "execution_count": 82,
     "metadata": {},
     "output_type": "execute_result"
    }
   ],
   "source": [
    "combined.corr()['sat_score'][class_size]"
   ]
  },
  {
   "cell_type": "code",
   "execution_count": 83,
   "metadata": {
    "collapsed": false
   },
   "outputs": [
    {
     "data": {
      "text/plain": [
       "<matplotlib.axes._subplots.AxesSubplot at 0x7fe1d2e30470>"
      ]
     },
     "execution_count": 83,
     "metadata": {},
     "output_type": "execute_result"
    },
    {
     "data": {
      "image/png": "[encoded data removed]",
      "text/plain": [
       "<matplotlib.figure.Figure at 0x7fe1d2e8a668>"
      ]
     },
     "metadata": {},
     "output_type": "display_data"
    }
   ],
   "source": [
    "combined.plot('sat_score', 'AVERAGE CLASS SIZE', kind = 'scatter')"
   ]
  },
  {
   "cell_type": "markdown",
   "metadata": {
    "collapsed": true
   },
   "source": [
    "Definitely has some positive correlation, but not particularly strong. "
   ]
  },
  {
   "cell_type": "code",
   "execution_count": 84,
   "metadata": {
    "collapsed": false
   },
   "outputs": [
    {
     "data": {
      "text/plain": [
       "<matplotlib.axes._subplots.AxesSubplot at 0x7fe1d61acd68>"
      ]
     },
     "execution_count": 84,
     "metadata": {},
     "output_type": "execute_result"
    },
    {
     "data": {
      "image/png": "[encoded data removed]",
      "text/plain": [
       "<matplotlib.figure.Figure at 0x7fe1d2e34828>"
      ]
     },
     "metadata": {},
     "output_type": "display_data"
    }
   ],
   "source": [
    "combined.plot('sat_score', 'NUMBER OF STUDENTS / SEATS FILLED', kind = 'scatter')"
   ]
  },
  {
   "cell_type": "code",
   "execution_count": null,
   "metadata": {
    "collapsed": true
   },
   "outputs": [],
   "source": []
  },
  {
   "cell_type": "code",
   "execution_count": null,
   "metadata": {
    "collapsed": true
   },
   "outputs": [],
   "source": []
  },
  {
   "cell_type": "code",
   "execution_count": null,
   "metadata": {
    "collapsed": true
   },
   "outputs": [],
   "source": []
  },
  {
   "cell_type": "code",
   "execution_count": null,
   "metadata": {
    "collapsed": true
   },
   "outputs": [],
   "source": []
  },
  {
   "cell_type": "markdown",
   "metadata": {},
   "source": [
    "# Which neighborhoods have the best schools"
   ]
  },
  {
   "cell_type": "code",
   "execution_count": 78,
   "metadata": {
    "collapsed": false
   },
   "outputs": [
    {
     "data": {
      "text/html": [
       "<div>\n",
       "<style scoped>\n",
       "    .dataframe tbody tr th:only-of-type {\n",
       "        vertical-align: middle;\n",
       "    }\n",
       "\n",
       "    .dataframe tbody tr th {\n",
       "        vertical-align: top;\n",
       "    }\n",
       "\n",
       "    .dataframe thead th {\n",
       "        text-align: right;\n",
       "    }\n",
       "</style>\n",
       "<table border=\"1\" class=\"dataframe\">\n",
       "  <thead>\n",
       "    <tr style=\"text-align: right;\">\n",
       "      <th></th>\n",
       "      <th>DBN</th>\n",
       "      <th>SCHOOL NAME</th>\n",
       "      <th>Num of SAT Test Takers</th>\n",
       "      <th>SAT Critical Reading Avg. Score</th>\n",
       "      <th>SAT Math Avg. Score</th>\n",
       "      <th>SAT Writing Avg. Score</th>\n",
       "      <th>sat_score</th>\n",
       "      <th>SchoolName</th>\n",
       "      <th>AP Test Takers</th>\n",
       "      <th>Total Exams Taken</th>\n",
       "      <th>...</th>\n",
       "      <th>priority06</th>\n",
       "      <th>priority07</th>\n",
       "      <th>priority08</th>\n",
       "      <th>priority09</th>\n",
       "      <th>priority10</th>\n",
       "      <th>Location 1</th>\n",
       "      <th>lat</th>\n",
       "      <th>lon</th>\n",
       "      <th>school_dist</th>\n",
       "      <th>ap_per</th>\n",
       "    </tr>\n",
       "  </thead>\n",
       "  <tbody>\n",
       "    <tr>\n",
       "      <th>0</th>\n",
       "      <td>01M292</td>\n",
       "      <td>HENRY STREET SCHOOL FOR INTERNATIONAL STUDIES</td>\n",
       "      <td>29</td>\n",
       "      <td>355.0</td>\n",
       "      <td>404.0</td>\n",
       "      <td>363.0</td>\n",
       "      <td>1122.0</td>\n",
       "      <td>0</td>\n",
       "      <td>129.028846</td>\n",
       "      <td>197.038462</td>\n",
       "      <td>...</td>\n",
       "      <td>0</td>\n",
       "      <td>0</td>\n",
       "      <td>0</td>\n",
       "      <td>0</td>\n",
       "      <td>0</td>\n",
       "      <td>220 Henry Street\\nNew York, NY 10002\\n(40.7137...</td>\n",
       "      <td>40.713764</td>\n",
       "      <td>-73.985260</td>\n",
       "      <td>01</td>\n",
       "      <td>0.305756</td>\n",
       "    </tr>\n",
       "    <tr>\n",
       "      <th>1</th>\n",
       "      <td>01M448</td>\n",
       "      <td>UNIVERSITY NEIGHBORHOOD HIGH SCHOOL</td>\n",
       "      <td>91</td>\n",
       "      <td>383.0</td>\n",
       "      <td>423.0</td>\n",
       "      <td>366.0</td>\n",
       "      <td>1172.0</td>\n",
       "      <td>UNIVERSITY NEIGHBORHOOD H.S.</td>\n",
       "      <td>39.000000</td>\n",
       "      <td>49.000000</td>\n",
       "      <td>...</td>\n",
       "      <td>0</td>\n",
       "      <td>0</td>\n",
       "      <td>0</td>\n",
       "      <td>0</td>\n",
       "      <td>0</td>\n",
       "      <td>200 Monroe Street\\nNew York, NY 10002\\n(40.712...</td>\n",
       "      <td>40.712332</td>\n",
       "      <td>-73.984797</td>\n",
       "      <td>01</td>\n",
       "      <td>0.098985</td>\n",
       "    </tr>\n",
       "    <tr>\n",
       "      <th>2</th>\n",
       "      <td>01M450</td>\n",
       "      <td>EAST SIDE COMMUNITY SCHOOL</td>\n",
       "      <td>70</td>\n",
       "      <td>377.0</td>\n",
       "      <td>402.0</td>\n",
       "      <td>370.0</td>\n",
       "      <td>1149.0</td>\n",
       "      <td>EAST SIDE COMMUNITY HS</td>\n",
       "      <td>19.000000</td>\n",
       "      <td>21.000000</td>\n",
       "      <td>...</td>\n",
       "      <td>0</td>\n",
       "      <td>0</td>\n",
       "      <td>0</td>\n",
       "      <td>0</td>\n",
       "      <td>0</td>\n",
       "      <td>420 East 12 Street\\nNew York, NY 10009\\n(40.72...</td>\n",
       "      <td>40.729783</td>\n",
       "      <td>-73.983041</td>\n",
       "      <td>01</td>\n",
       "      <td>0.031773</td>\n",
       "    </tr>\n",
       "    <tr>\n",
       "      <th>3</th>\n",
       "      <td>01M509</td>\n",
       "      <td>MARTA VALLE HIGH SCHOOL</td>\n",
       "      <td>44</td>\n",
       "      <td>390.0</td>\n",
       "      <td>433.0</td>\n",
       "      <td>384.0</td>\n",
       "      <td>1207.0</td>\n",
       "      <td>0</td>\n",
       "      <td>129.028846</td>\n",
       "      <td>197.038462</td>\n",
       "      <td>...</td>\n",
       "      <td>0</td>\n",
       "      <td>0</td>\n",
       "      <td>0</td>\n",
       "      <td>0</td>\n",
       "      <td>0</td>\n",
       "      <td>145 Stanton Street\\nNew York, NY 10002\\n(40.72...</td>\n",
       "      <td>40.720569</td>\n",
       "      <td>-73.985673</td>\n",
       "      <td>01</td>\n",
       "      <td>0.351577</td>\n",
       "    </tr>\n",
       "    <tr>\n",
       "      <th>4</th>\n",
       "      <td>01M539</td>\n",
       "      <td>NEW EXPLORATIONS INTO SCIENCE, TECHNOLOGY AND ...</td>\n",
       "      <td>159</td>\n",
       "      <td>522.0</td>\n",
       "      <td>574.0</td>\n",
       "      <td>525.0</td>\n",
       "      <td>1621.0</td>\n",
       "      <td>NEW EXPLORATIONS SCI,TECH,MATH</td>\n",
       "      <td>255.000000</td>\n",
       "      <td>377.000000</td>\n",
       "      <td>...</td>\n",
       "      <td>0</td>\n",
       "      <td>0</td>\n",
       "      <td>0</td>\n",
       "      <td>0</td>\n",
       "      <td>0</td>\n",
       "      <td>111 Columbia Street\\nNew York, NY 10002\\n(40.7...</td>\n",
       "      <td>40.718725</td>\n",
       "      <td>-73.979426</td>\n",
       "      <td>01</td>\n",
       "      <td>0.158091</td>\n",
       "    </tr>\n",
       "  </tbody>\n",
       "</table>\n",
       "<p>5 rows × 161 columns</p>\n",
       "</div>"
      ],
      "text/plain": [
       "      DBN                                        SCHOOL NAME  \\\n",
       "0  01M292      HENRY STREET SCHOOL FOR INTERNATIONAL STUDIES   \n",
       "1  01M448                UNIVERSITY NEIGHBORHOOD HIGH SCHOOL   \n",
       "2  01M450                         EAST SIDE COMMUNITY SCHOOL   \n",
       "3  01M509                            MARTA VALLE HIGH SCHOOL   \n",
       "4  01M539  NEW EXPLORATIONS INTO SCIENCE, TECHNOLOGY AND ...   \n",
       "\n",
       "  Num of SAT Test Takers  SAT Critical Reading Avg. Score  \\\n",
       "0                     29                            355.0   \n",
       "1                     91                            383.0   \n",
       "2                     70                            377.0   \n",
       "3                     44                            390.0   \n",
       "4                    159                            522.0   \n",
       "\n",
       "   SAT Math Avg. Score  SAT Writing Avg. Score  sat_score  \\\n",
       "0                404.0                   363.0     1122.0   \n",
       "1                423.0                   366.0     1172.0   \n",
       "2                402.0                   370.0     1149.0   \n",
       "3                433.0                   384.0     1207.0   \n",
       "4                574.0                   525.0     1621.0   \n",
       "\n",
       "                       SchoolName  AP Test Takers   Total Exams Taken  \\\n",
       "0                               0       129.028846         197.038462   \n",
       "1    UNIVERSITY NEIGHBORHOOD H.S.        39.000000          49.000000   \n",
       "2          EAST SIDE COMMUNITY HS        19.000000          21.000000   \n",
       "3                               0       129.028846         197.038462   \n",
       "4  NEW EXPLORATIONS SCI,TECH,MATH       255.000000         377.000000   \n",
       "\n",
       "     ...     priority06 priority07 priority08 priority09  priority10  \\\n",
       "0    ...              0          0          0          0           0   \n",
       "1    ...              0          0          0          0           0   \n",
       "2    ...              0          0          0          0           0   \n",
       "3    ...              0          0          0          0           0   \n",
       "4    ...              0          0          0          0           0   \n",
       "\n",
       "                                          Location 1        lat        lon  \\\n",
       "0  220 Henry Street\\nNew York, NY 10002\\n(40.7137...  40.713764 -73.985260   \n",
       "1  200 Monroe Street\\nNew York, NY 10002\\n(40.712...  40.712332 -73.984797   \n",
       "2  420 East 12 Street\\nNew York, NY 10009\\n(40.72...  40.729783 -73.983041   \n",
       "3  145 Stanton Street\\nNew York, NY 10002\\n(40.72...  40.720569 -73.985673   \n",
       "4  111 Columbia Street\\nNew York, NY 10002\\n(40.7...  40.718725 -73.979426   \n",
       "\n",
       "  school_dist    ap_per  \n",
       "0          01  0.305756  \n",
       "1          01  0.098985  \n",
       "2          01  0.031773  \n",
       "3          01  0.351577  \n",
       "4          01  0.158091  \n",
       "\n",
       "[5 rows x 161 columns]"
      ]
     },
     "execution_count": 78,
     "metadata": {},
     "output_type": "execute_result"
    }
   ],
   "source": [
    "combined.head()"
   ]
  },
  {
   "cell_type": "code",
   "execution_count": 79,
   "metadata": {
    "collapsed": false
   },
   "outputs": [
    {
     "data": {
      "text/plain": [
       "array(['DBN', 'SCHOOL NAME', 'Num of SAT Test Takers',\n",
       "       'SAT Critical Reading Avg. Score', 'SAT Math Avg. Score',\n",
       "       'SAT Writing Avg. Score', 'sat_score', 'SchoolName',\n",
       "       'AP Test Takers ', 'Total Exams Taken',\n",
       "       'Number of Exams with scores 3 4 or 5', 'Demographic',\n",
       "       'School Name', 'Cohort', 'Total Cohort', 'Total Grads - n',\n",
       "       'Total Grads - % of cohort', 'Total Regents - n',\n",
       "       'Total Regents - % of cohort', 'Total Regents - % of grads',\n",
       "       'Advanced Regents - n', 'Advanced Regents - % of cohort',\n",
       "       'Advanced Regents - % of grads', 'Regents w/o Advanced - n',\n",
       "       'Regents w/o Advanced - % of cohort',\n",
       "       'Regents w/o Advanced - % of grads', 'Local - n',\n",
       "       'Local - % of cohort', 'Local - % of grads', 'Still Enrolled - n',\n",
       "       'Still Enrolled - % of cohort', 'Dropped Out - n',\n",
       "       'Dropped Out - % of cohort', 'CSD',\n",
       "       'NUMBER OF STUDENTS / SEATS FILLED', 'NUMBER OF SECTIONS',\n",
       "       'AVERAGE CLASS SIZE', 'SIZE OF SMALLEST CLASS',\n",
       "       'SIZE OF LARGEST CLASS', 'SCHOOLWIDE PUPIL-TEACHER RATIO', 'Name',\n",
       "       'schoolyear', 'fl_percent', 'frl_percent', 'total_enrollment',\n",
       "       'prek', 'k', 'grade1', 'grade2', 'grade3', 'grade4', 'grade5',\n",
       "       'grade6', 'grade7', 'grade8', 'grade9', 'grade10', 'grade11',\n",
       "       'grade12', 'ell_num', 'ell_percent', 'sped_num', 'sped_percent',\n",
       "       'ctt_num', 'selfcontained_num', 'asian_num', 'asian_per',\n",
       "       'black_num', 'black_per', 'hispanic_num', 'hispanic_per',\n",
       "       'white_num', 'white_per', 'male_num', 'male_per', 'female_num',\n",
       "       'female_per', 'rr_s', 'rr_t', 'rr_p', 'N_s', 'N_t', 'N_p',\n",
       "       'saf_p_11', 'com_p_11', 'eng_p_11', 'aca_p_11', 'saf_t_11',\n",
       "       'com_t_11', 'eng_t_11', 'aca_t_11', 'saf_s_11', 'com_s_11',\n",
       "       'eng_s_11', 'aca_s_11', 'saf_tot_11', 'com_tot_11', 'eng_tot_11',\n",
       "       'aca_tot_11', 'dbn', 'school_name', 'boro', 'building_code',\n",
       "       'phone_number', 'fax_number', 'grade_span_min', 'grade_span_max',\n",
       "       'expgrade_span_min', 'expgrade_span_max', 'bus', 'subway',\n",
       "       'primary_address_line_1', 'city', 'state_code', 'zip', 'website',\n",
       "       'total_students', 'campus_name', 'school_type',\n",
       "       'overview_paragraph', 'program_highlights', 'language_classes',\n",
       "       'advancedplacement_courses', 'online_ap_courses',\n",
       "       'online_language_courses', 'extracurricular_activities',\n",
       "       'psal_sports_boys', 'psal_sports_girls', 'psal_sports_coed',\n",
       "       'school_sports', 'partner_cbo', 'partner_hospital',\n",
       "       'partner_highered', 'partner_cultural', 'partner_nonprofit',\n",
       "       'partner_corporate', 'partner_financial', 'partner_other',\n",
       "       'addtl_info1', 'addtl_info2', 'start_time', 'end_time',\n",
       "       'se_services', 'ell_programs', 'school_accessibility_description',\n",
       "       'number_programs', 'priority01', 'priority02', 'priority03',\n",
       "       'priority04', 'priority05', 'priority06', 'priority07',\n",
       "       'priority08', 'priority09', 'priority10', 'Location 1', 'lat',\n",
       "       'lon', 'school_dist', 'ap_per'], dtype=object)"
      ]
     },
     "execution_count": 79,
     "metadata": {},
     "output_type": "execute_result"
    }
   ],
   "source": [
    "combined.columns.values"
   ]
  },
  {
   "cell_type": "code",
   "execution_count": 80,
   "metadata": {
    "collapsed": false
   },
   "outputs": [
    {
     "data": {
      "text/plain": [
       "Brooklyn         106\n",
       "Bronx             93\n",
       "Manhattan         90\n",
       "Queens            64\n",
       "Staten Island     10\n",
       "Name: boro, dtype: int64"
      ]
     },
     "execution_count": 80,
     "metadata": {},
     "output_type": "execute_result"
    }
   ],
   "source": [
    "combined['boro'].value_counts()"
   ]
  },
  {
   "cell_type": "code",
   "execution_count": 94,
   "metadata": {
    "collapsed": false
   },
   "outputs": [],
   "source": [
    "boro_averages = combined.groupby('boro').apply(numpy.mean).reset_index()"
   ]
  },
  {
   "cell_type": "code",
   "execution_count": 95,
   "metadata": {
    "collapsed": false
   },
   "outputs": [
    {
     "data": {
      "text/html": [
       "<div>\n",
       "<style scoped>\n",
       "    .dataframe tbody tr th:only-of-type {\n",
       "        vertical-align: middle;\n",
       "    }\n",
       "\n",
       "    .dataframe tbody tr th {\n",
       "        vertical-align: top;\n",
       "    }\n",
       "\n",
       "    .dataframe thead th {\n",
       "        text-align: right;\n",
       "    }\n",
       "</style>\n",
       "<table border=\"1\" class=\"dataframe\">\n",
       "  <thead>\n",
       "    <tr style=\"text-align: right;\">\n",
       "      <th></th>\n",
       "      <th>boro</th>\n",
       "      <th>SAT Critical Reading Avg. Score</th>\n",
       "      <th>SAT Math Avg. Score</th>\n",
       "      <th>SAT Writing Avg. Score</th>\n",
       "      <th>sat_score</th>\n",
       "      <th>AP Test Takers</th>\n",
       "      <th>Total Exams Taken</th>\n",
       "      <th>Number of Exams with scores 3 4 or 5</th>\n",
       "      <th>Total Cohort</th>\n",
       "      <th>CSD</th>\n",
       "      <th>...</th>\n",
       "      <th>expgrade_span_max</th>\n",
       "      <th>zip</th>\n",
       "      <th>total_students</th>\n",
       "      <th>number_programs</th>\n",
       "      <th>priority08</th>\n",
       "      <th>priority09</th>\n",
       "      <th>priority10</th>\n",
       "      <th>lat</th>\n",
       "      <th>lon</th>\n",
       "      <th>ap_per</th>\n",
       "    </tr>\n",
       "  </thead>\n",
       "  <tbody>\n",
       "    <tr>\n",
       "      <th>0</th>\n",
       "      <td>Bronx</td>\n",
       "      <td>384.050714</td>\n",
       "      <td>393.891831</td>\n",
       "      <td>379.655657</td>\n",
       "      <td>1157.598203</td>\n",
       "      <td>96.473842</td>\n",
       "      <td>149.445409</td>\n",
       "      <td>135.694086</td>\n",
       "      <td>136.857093</td>\n",
       "      <td>9.548387</td>\n",
       "      <td>...</td>\n",
       "      <td>12.0</td>\n",
       "      <td>10461.408602</td>\n",
       "      <td>549.569892</td>\n",
       "      <td>1.344086</td>\n",
       "      <td>0.0</td>\n",
       "      <td>0.0</td>\n",
       "      <td>0.0</td>\n",
       "      <td>40.845473</td>\n",
       "      <td>-73.890973</td>\n",
       "      <td>0.189331</td>\n",
       "    </tr>\n",
       "    <tr>\n",
       "      <th>1</th>\n",
       "      <td>Brooklyn</td>\n",
       "      <td>391.336947</td>\n",
       "      <td>404.612644</td>\n",
       "      <td>385.414869</td>\n",
       "      <td>1181.364461</td>\n",
       "      <td>131.645682</td>\n",
       "      <td>202.857765</td>\n",
       "      <td>164.940094</td>\n",
       "      <td>183.870968</td>\n",
       "      <td>18.000000</td>\n",
       "      <td>...</td>\n",
       "      <td>12.0</td>\n",
       "      <td>11216.150943</td>\n",
       "      <td>751.556604</td>\n",
       "      <td>1.971698</td>\n",
       "      <td>0.0</td>\n",
       "      <td>0.0</td>\n",
       "      <td>0.0</td>\n",
       "      <td>40.665555</td>\n",
       "      <td>-73.947829</td>\n",
       "      <td>0.217670</td>\n",
       "    </tr>\n",
       "    <tr>\n",
       "      <th>2</th>\n",
       "      <td>Manhattan</td>\n",
       "      <td>421.070149</td>\n",
       "      <td>437.824710</td>\n",
       "      <td>419.436551</td>\n",
       "      <td>1278.331410</td>\n",
       "      <td>126.135363</td>\n",
       "      <td>192.661966</td>\n",
       "      <td>153.337778</td>\n",
       "      <td>155.421505</td>\n",
       "      <td>2.900000</td>\n",
       "      <td>...</td>\n",
       "      <td>12.0</td>\n",
       "      <td>10024.744444</td>\n",
       "      <td>633.588889</td>\n",
       "      <td>1.433333</td>\n",
       "      <td>0.0</td>\n",
       "      <td>0.0</td>\n",
       "      <td>0.0</td>\n",
       "      <td>40.766244</td>\n",
       "      <td>-73.975350</td>\n",
       "      <td>0.246578</td>\n",
       "    </tr>\n",
       "    <tr>\n",
       "      <th>3</th>\n",
       "      <td>Queens</td>\n",
       "      <td>422.274953</td>\n",
       "      <td>448.207556</td>\n",
       "      <td>416.270522</td>\n",
       "      <td>1286.753032</td>\n",
       "      <td>160.463942</td>\n",
       "      <td>238.014423</td>\n",
       "      <td>153.975000</td>\n",
       "      <td>307.208165</td>\n",
       "      <td>26.906250</td>\n",
       "      <td>...</td>\n",
       "      <td>12.0</td>\n",
       "      <td>11343.000000</td>\n",
       "      <td>1187.187500</td>\n",
       "      <td>2.390625</td>\n",
       "      <td>0.0</td>\n",
       "      <td>0.0</td>\n",
       "      <td>0.0</td>\n",
       "      <td>40.715715</td>\n",
       "      <td>-73.836422</td>\n",
       "      <td>0.184006</td>\n",
       "    </tr>\n",
       "    <tr>\n",
       "      <th>4</th>\n",
       "      <td>Staten Island</td>\n",
       "      <td>457.500000</td>\n",
       "      <td>472.500000</td>\n",
       "      <td>452.500000</td>\n",
       "      <td>1382.500000</td>\n",
       "      <td>228.908654</td>\n",
       "      <td>355.111538</td>\n",
       "      <td>194.435000</td>\n",
       "      <td>450.787097</td>\n",
       "      <td>31.000000</td>\n",
       "      <td>...</td>\n",
       "      <td>12.0</td>\n",
       "      <td>10307.100000</td>\n",
       "      <td>1847.500000</td>\n",
       "      <td>5.000000</td>\n",
       "      <td>0.0</td>\n",
       "      <td>0.0</td>\n",
       "      <td>0.0</td>\n",
       "      <td>40.595680</td>\n",
       "      <td>-74.125726</td>\n",
       "      <td>0.176337</td>\n",
       "    </tr>\n",
       "  </tbody>\n",
       "</table>\n",
       "<p>5 rows × 69 columns</p>\n",
       "</div>"
      ],
      "text/plain": [
       "            boro  SAT Critical Reading Avg. Score  SAT Math Avg. Score  \\\n",
       "0          Bronx                       384.050714           393.891831   \n",
       "1       Brooklyn                       391.336947           404.612644   \n",
       "2      Manhattan                       421.070149           437.824710   \n",
       "3         Queens                       422.274953           448.207556   \n",
       "4  Staten Island                       457.500000           472.500000   \n",
       "\n",
       "   SAT Writing Avg. Score    sat_score  AP Test Takers   Total Exams Taken  \\\n",
       "0              379.655657  1157.598203        96.473842         149.445409   \n",
       "1              385.414869  1181.364461       131.645682         202.857765   \n",
       "2              419.436551  1278.331410       126.135363         192.661966   \n",
       "3              416.270522  1286.753032       160.463942         238.014423   \n",
       "4              452.500000  1382.500000       228.908654         355.111538   \n",
       "\n",
       "   Number of Exams with scores 3 4 or 5  Total Cohort        CSD    ...     \\\n",
       "0                            135.694086    136.857093   9.548387    ...      \n",
       "1                            164.940094    183.870968  18.000000    ...      \n",
       "2                            153.337778    155.421505   2.900000    ...      \n",
       "3                            153.975000    307.208165  26.906250    ...      \n",
       "4                            194.435000    450.787097  31.000000    ...      \n",
       "\n",
       "   expgrade_span_max           zip  total_students  number_programs  \\\n",
       "0               12.0  10461.408602      549.569892         1.344086   \n",
       "1               12.0  11216.150943      751.556604         1.971698   \n",
       "2               12.0  10024.744444      633.588889         1.433333   \n",
       "3               12.0  11343.000000     1187.187500         2.390625   \n",
       "4               12.0  10307.100000     1847.500000         5.000000   \n",
       "\n",
       "   priority08  priority09  priority10        lat        lon    ap_per  \n",
       "0         0.0         0.0         0.0  40.845473 -73.890973  0.189331  \n",
       "1         0.0         0.0         0.0  40.665555 -73.947829  0.217670  \n",
       "2         0.0         0.0         0.0  40.766244 -73.975350  0.246578  \n",
       "3         0.0         0.0         0.0  40.715715 -73.836422  0.184006  \n",
       "4         0.0         0.0         0.0  40.595680 -74.125726  0.176337  \n",
       "\n",
       "[5 rows x 69 columns]"
      ]
     },
     "execution_count": 95,
     "metadata": {},
     "output_type": "execute_result"
    }
   ],
   "source": [
    "boro_averages.head()"
   ]
  },
  {
   "cell_type": "code",
   "execution_count": 103,
   "metadata": {
    "collapsed": false
   },
   "outputs": [
    {
     "data": {
      "text/plain": [
       "<matplotlib.axes._subplots.AxesSubplot at 0x7fe1d0891978>"
      ]
     },
     "execution_count": 103,
     "metadata": {},
     "output_type": "execute_result"
    },
    {
     "data": {
      "image/png": "[encoded data removed]",
      "text/plain": [
       "<matplotlib.figure.Figure at 0x7fe1d0899048>"
      ]
     },
     "metadata": {},
     "output_type": "display_data"
    }
   ],
   "source": [
    "boro_averages.plot('boro', 'sat_score', kind = 'bar', ylim = [1000, 1500])"
   ]
  },
  {
   "cell_type": "code",
   "execution_count": 99,
   "metadata": {
    "collapsed": false
   },
   "outputs": [
    {
     "data": {
      "text/plain": [
       "<matplotlib.axes._subplots.AxesSubplot at 0x7fe1d0a34a90>"
      ]
     },
     "execution_count": 99,
     "metadata": {},
     "output_type": "execute_result"
    },
    {
     "data": {
      "image/png": "[encoded data removed]",
      "text/plain": [
       "<matplotlib.figure.Figure at 0x7fe1d09c2128>"
      ]
     },
     "metadata": {},
     "output_type": "display_data"
    }
   ],
   "source": [
    "boro_averages.plot('boro', 'SAT Critical Reading Avg. Score', kind = 'bar', ylim = [300,500])"
   ]
  },
  {
   "cell_type": "code",
   "execution_count": 100,
   "metadata": {
    "collapsed": false
   },
   "outputs": [
    {
     "data": {
      "text/plain": [
       "<matplotlib.axes._subplots.AxesSubplot at 0x7fe1d0930898>"
      ]
     },
     "execution_count": 100,
     "metadata": {},
     "output_type": "execute_result"
    },
    {
     "data": {
      "image/png": "[encoded data removed]",
      "text/plain": [
       "<matplotlib.figure.Figure at 0x7fe1d0934438>"
      ]
     },
     "metadata": {},
     "output_type": "display_data"
    }
   ],
   "source": [
    "boro_averages.plot('boro', 'SAT Math Avg. Score', kind = 'bar', ylim = [300,500])"
   ]
  },
  {
   "cell_type": "code",
   "execution_count": 101,
   "metadata": {
    "collapsed": false
   },
   "outputs": [
    {
     "data": {
      "text/plain": [
       "<matplotlib.axes._subplots.AxesSubplot at 0x7fe1d089e898>"
      ]
     },
     "execution_count": 101,
     "metadata": {},
     "output_type": "execute_result"
    },
    {
     "data": {
      "image/png": "[encoded data removed]",
      "text/plain": [
       "<matplotlib.figure.Figure at 0x7fe1d08a9198>"
      ]
     },
     "metadata": {},
     "output_type": "display_data"
    }
   ],
   "source": [
    "boro_averages.plot('boro', 'SAT Writing Avg. Score', kind = 'bar', ylim = [300,500])"
   ]
  },
  {
   "cell_type": "markdown",
   "metadata": {},
   "source": [
    "Seems like Staten Island definitely has the highest performing schools (based on SAT's) in the NYC area. Finding the least expensive neighborhoods with good schools would necessitate additional data on average housing prices in the area"
   ]
  },
  {
   "cell_type": "markdown",
   "metadata": {},
   "source": [
    "# Investigate the differences between parent, teacher, and student responses to surveys"
   ]
  },
  {
   "cell_type": "code",
   "execution_count": 104,
   "metadata": {
    "collapsed": false
   },
   "outputs": [
    {
     "data": {
      "text/plain": [
       "array(['DBN', 'SCHOOL NAME', 'Num of SAT Test Takers',\n",
       "       'SAT Critical Reading Avg. Score', 'SAT Math Avg. Score',\n",
       "       'SAT Writing Avg. Score', 'sat_score', 'SchoolName',\n",
       "       'AP Test Takers ', 'Total Exams Taken',\n",
       "       'Number of Exams with scores 3 4 or 5', 'Demographic',\n",
       "       'School Name', 'Cohort', 'Total Cohort', 'Total Grads - n',\n",
       "       'Total Grads - % of cohort', 'Total Regents - n',\n",
       "       'Total Regents - % of cohort', 'Total Regents - % of grads',\n",
       "       'Advanced Regents - n', 'Advanced Regents - % of cohort',\n",
       "       'Advanced Regents - % of grads', 'Regents w/o Advanced - n',\n",
       "       'Regents w/o Advanced - % of cohort',\n",
       "       'Regents w/o Advanced - % of grads', 'Local - n',\n",
       "       'Local - % of cohort', 'Local - % of grads', 'Still Enrolled - n',\n",
       "       'Still Enrolled - % of cohort', 'Dropped Out - n',\n",
       "       'Dropped Out - % of cohort', 'CSD',\n",
       "       'NUMBER OF STUDENTS / SEATS FILLED', 'NUMBER OF SECTIONS',\n",
       "       'AVERAGE CLASS SIZE', 'SIZE OF SMALLEST CLASS',\n",
       "       'SIZE OF LARGEST CLASS', 'SCHOOLWIDE PUPIL-TEACHER RATIO', 'Name',\n",
       "       'schoolyear', 'fl_percent', 'frl_percent', 'total_enrollment',\n",
       "       'prek', 'k', 'grade1', 'grade2', 'grade3', 'grade4', 'grade5',\n",
       "       'grade6', 'grade7', 'grade8', 'grade9', 'grade10', 'grade11',\n",
       "       'grade12', 'ell_num', 'ell_percent', 'sped_num', 'sped_percent',\n",
       "       'ctt_num', 'selfcontained_num', 'asian_num', 'asian_per',\n",
       "       'black_num', 'black_per', 'hispanic_num', 'hispanic_per',\n",
       "       'white_num', 'white_per', 'male_num', 'male_per', 'female_num',\n",
       "       'female_per', 'rr_s', 'rr_t', 'rr_p', 'N_s', 'N_t', 'N_p',\n",
       "       'saf_p_11', 'com_p_11', 'eng_p_11', 'aca_p_11', 'saf_t_11',\n",
       "       'com_t_11', 'eng_t_11', 'aca_t_11', 'saf_s_11', 'com_s_11',\n",
       "       'eng_s_11', 'aca_s_11', 'saf_tot_11', 'com_tot_11', 'eng_tot_11',\n",
       "       'aca_tot_11', 'dbn', 'school_name', 'boro', 'building_code',\n",
       "       'phone_number', 'fax_number', 'grade_span_min', 'grade_span_max',\n",
       "       'expgrade_span_min', 'expgrade_span_max', 'bus', 'subway',\n",
       "       'primary_address_line_1', 'city', 'state_code', 'zip', 'website',\n",
       "       'total_students', 'campus_name', 'school_type',\n",
       "       'overview_paragraph', 'program_highlights', 'language_classes',\n",
       "       'advancedplacement_courses', 'online_ap_courses',\n",
       "       'online_language_courses', 'extracurricular_activities',\n",
       "       'psal_sports_boys', 'psal_sports_girls', 'psal_sports_coed',\n",
       "       'school_sports', 'partner_cbo', 'partner_hospital',\n",
       "       'partner_highered', 'partner_cultural', 'partner_nonprofit',\n",
       "       'partner_corporate', 'partner_financial', 'partner_other',\n",
       "       'addtl_info1', 'addtl_info2', 'start_time', 'end_time',\n",
       "       'se_services', 'ell_programs', 'school_accessibility_description',\n",
       "       'number_programs', 'priority01', 'priority02', 'priority03',\n",
       "       'priority04', 'priority05', 'priority06', 'priority07',\n",
       "       'priority08', 'priority09', 'priority10', 'Location 1', 'lat',\n",
       "       'lon', 'school_dist', 'ap_per'], dtype=object)"
      ]
     },
     "execution_count": 104,
     "metadata": {},
     "output_type": "execute_result"
    }
   ],
   "source": [
    "combined.columns.values"
   ]
  },
  {
   "cell_type": "code",
   "execution_count": 137,
   "metadata": {
    "collapsed": false
   },
   "outputs": [
    {
     "data": {
      "text/html": [
       "<div>\n",
       "<style scoped>\n",
       "    .dataframe tbody tr th:only-of-type {\n",
       "        vertical-align: middle;\n",
       "    }\n",
       "\n",
       "    .dataframe tbody tr th {\n",
       "        vertical-align: top;\n",
       "    }\n",
       "\n",
       "    .dataframe thead th {\n",
       "        text-align: right;\n",
       "    }\n",
       "</style>\n",
       "<table border=\"1\" class=\"dataframe\">\n",
       "  <thead>\n",
       "    <tr style=\"text-align: right;\">\n",
       "      <th></th>\n",
       "      <th>SCHOOL NAME</th>\n",
       "      <th>SchoolName</th>\n",
       "    </tr>\n",
       "  </thead>\n",
       "  <tbody>\n",
       "    <tr>\n",
       "      <th>0</th>\n",
       "      <td>HENRY STREET SCHOOL FOR INTERNATIONAL STUDIES</td>\n",
       "      <td>0</td>\n",
       "    </tr>\n",
       "    <tr>\n",
       "      <th>1</th>\n",
       "      <td>UNIVERSITY NEIGHBORHOOD HIGH SCHOOL</td>\n",
       "      <td>UNIVERSITY NEIGHBORHOOD H.S.</td>\n",
       "    </tr>\n",
       "    <tr>\n",
       "      <th>2</th>\n",
       "      <td>EAST SIDE COMMUNITY SCHOOL</td>\n",
       "      <td>EAST SIDE COMMUNITY HS</td>\n",
       "    </tr>\n",
       "    <tr>\n",
       "      <th>3</th>\n",
       "      <td>MARTA VALLE HIGH SCHOOL</td>\n",
       "      <td>0</td>\n",
       "    </tr>\n",
       "    <tr>\n",
       "      <th>4</th>\n",
       "      <td>NEW EXPLORATIONS INTO SCIENCE, TECHNOLOGY AND ...</td>\n",
       "      <td>NEW EXPLORATIONS SCI,TECH,MATH</td>\n",
       "    </tr>\n",
       "    <tr>\n",
       "      <th>5</th>\n",
       "      <td>BARD HIGH SCHOOL EARLY COLLEGE</td>\n",
       "      <td>0</td>\n",
       "    </tr>\n",
       "    <tr>\n",
       "      <th>6</th>\n",
       "      <td>47 THE AMERICAN SIGN LANGUAGE AND ENGLISH SECO...</td>\n",
       "      <td>0</td>\n",
       "    </tr>\n",
       "    <tr>\n",
       "      <th>7</th>\n",
       "      <td>FOOD AND FINANCE HIGH SCHOOL</td>\n",
       "      <td>0</td>\n",
       "    </tr>\n",
       "    <tr>\n",
       "      <th>8</th>\n",
       "      <td>ESSEX STREET ACADEMY</td>\n",
       "      <td>0</td>\n",
       "    </tr>\n",
       "    <tr>\n",
       "      <th>9</th>\n",
       "      <td>HIGH SCHOOL OF HOSPITALITY MANAGEMENT</td>\n",
       "      <td>High School of Hospitality Management</td>\n",
       "    </tr>\n",
       "    <tr>\n",
       "      <th>10</th>\n",
       "      <td>PACE HIGH SCHOOL</td>\n",
       "      <td>Pace High School</td>\n",
       "    </tr>\n",
       "    <tr>\n",
       "      <th>11</th>\n",
       "      <td>URBAN ASSEMBLY SCHOOL OF DESIGN AND CONSTRUCTI...</td>\n",
       "      <td>Urban Assembly School of Design and Construction,</td>\n",
       "    </tr>\n",
       "    <tr>\n",
       "      <th>12</th>\n",
       "      <td>FACING HISTORY SCHOOL, THE</td>\n",
       "      <td>Facing History School, The</td>\n",
       "    </tr>\n",
       "    <tr>\n",
       "      <th>13</th>\n",
       "      <td>URBAN ASSEMBLY ACADEMY OF GOVERNMENT AND LAW, THE</td>\n",
       "      <td>Urban Assembly Academy of Government and Law, The</td>\n",
       "    </tr>\n",
       "    <tr>\n",
       "      <th>14</th>\n",
       "      <td>LOWER MANHATTAN ARTS ACADEMY</td>\n",
       "      <td>Lower Manhattan Arts Academy</td>\n",
       "    </tr>\n",
       "    <tr>\n",
       "      <th>15</th>\n",
       "      <td>URBAN ASSEMBLY SCHOOL OF BUSINESS FOR YOUNG WO...</td>\n",
       "      <td>0</td>\n",
       "    </tr>\n",
       "    <tr>\n",
       "      <th>16</th>\n",
       "      <td>GRAMERCY ARTS HIGH SCHOOL</td>\n",
       "      <td>0</td>\n",
       "    </tr>\n",
       "    <tr>\n",
       "      <th>17</th>\n",
       "      <td>NYC ISCHOOL</td>\n",
       "      <td>0</td>\n",
       "    </tr>\n",
       "    <tr>\n",
       "      <th>18</th>\n",
       "      <td>MANHATTAN BUSINESS ACADEMY</td>\n",
       "      <td>0</td>\n",
       "    </tr>\n",
       "    <tr>\n",
       "      <th>19</th>\n",
       "      <td>BUSINESS OF SPORTS SCHOOL</td>\n",
       "      <td>0</td>\n",
       "    </tr>\n",
       "    <tr>\n",
       "      <th>20</th>\n",
       "      <td>THE HIGH SCHOOL FOR LANGUAGE AND DIPLOMACY</td>\n",
       "      <td>0</td>\n",
       "    </tr>\n",
       "    <tr>\n",
       "      <th>21</th>\n",
       "      <td>HIGH SCHOOL FOR ENVIRONMENTAL STUDIES</td>\n",
       "      <td>HS FOR ENVIRONMENTAL STUDIES</td>\n",
       "    </tr>\n",
       "    <tr>\n",
       "      <th>22</th>\n",
       "      <td>PROFESSIONAL PERFORMING ARTS HIGH SCHOOL</td>\n",
       "      <td>PROFESSIONAL PERFORMING ARTS</td>\n",
       "    </tr>\n",
       "    <tr>\n",
       "      <th>23</th>\n",
       "      <td>BARUCH COLLEGE CAMPUS HIGH SCHOOL</td>\n",
       "      <td>BARUCH COLLEGE CAMPUS HS</td>\n",
       "    </tr>\n",
       "    <tr>\n",
       "      <th>24</th>\n",
       "      <td>N.Y.C. LAB SCHOOL FOR COLLABORATIVE STUDIES</td>\n",
       "      <td>NYC LAB HS FOR COLL. STUDIES</td>\n",
       "    </tr>\n",
       "    <tr>\n",
       "      <th>25</th>\n",
       "      <td>N.Y.C. MUSEUM SCHOOL</td>\n",
       "      <td>NYC MUSEUM SCHOOL</td>\n",
       "    </tr>\n",
       "    <tr>\n",
       "      <th>26</th>\n",
       "      <td>ELEANOR ROOSEVELT HIGH SCHOOL</td>\n",
       "      <td>Eleanor Roosevelt High School</td>\n",
       "    </tr>\n",
       "    <tr>\n",
       "      <th>27</th>\n",
       "      <td>MILLENNIUM HIGH SCHOOL</td>\n",
       "      <td>Millennium High School</td>\n",
       "    </tr>\n",
       "    <tr>\n",
       "      <th>28</th>\n",
       "      <td>LANDMARK HIGH SCHOOL</td>\n",
       "      <td>0</td>\n",
       "    </tr>\n",
       "    <tr>\n",
       "      <th>29</th>\n",
       "      <td>HIGH SCHOOL FOR HEALTH PROFESSIONS AND HUMAN S...</td>\n",
       "      <td>HEALTH PROF &amp; HUMAN SVCS</td>\n",
       "    </tr>\n",
       "    <tr>\n",
       "      <th>...</th>\n",
       "      <td>...</td>\n",
       "      <td>...</td>\n",
       "    </tr>\n",
       "    <tr>\n",
       "      <th>333</th>\n",
       "      <td>GEORGE WASHINGTON CARVER HIGH SCHOOL FOR THE S...</td>\n",
       "      <td>George Washington Carver High School for the S...</td>\n",
       "    </tr>\n",
       "    <tr>\n",
       "      <th>334</th>\n",
       "      <td>PREPARATORY ACADEMY FOR WRITERS: A COLLEGE BOA...</td>\n",
       "      <td>Preparatory Academy for Writers</td>\n",
       "    </tr>\n",
       "    <tr>\n",
       "      <th>335</th>\n",
       "      <td>CAMBRIA HEIGHTS ACADEMY</td>\n",
       "      <td>0</td>\n",
       "    </tr>\n",
       "    <tr>\n",
       "      <th>336</th>\n",
       "      <td>MATHEMATICS, SCIENCE RESEARCH AND TECHNOLOGY M...</td>\n",
       "      <td>MATH/SCIENCE RESEARCH TECH CTR</td>\n",
       "    </tr>\n",
       "    <tr>\n",
       "      <th>337</th>\n",
       "      <td>HUMANITIES &amp; ARTS MAGNET HIGH SCHOOL</td>\n",
       "      <td>0</td>\n",
       "    </tr>\n",
       "    <tr>\n",
       "      <th>338</th>\n",
       "      <td>YOUNG WOMEN'S LEADERSHIP SCHOOL, ASTORIA</td>\n",
       "      <td>0</td>\n",
       "    </tr>\n",
       "    <tr>\n",
       "      <th>339</th>\n",
       "      <td>ACADEMY FOR CAREERS IN TELEVISION AND FILM</td>\n",
       "      <td>0</td>\n",
       "    </tr>\n",
       "    <tr>\n",
       "      <th>340</th>\n",
       "      <td>WILLIAM CULLEN BRYANT HIGH SCHOOL</td>\n",
       "      <td>WM CULLEN BRYANT HS</td>\n",
       "    </tr>\n",
       "    <tr>\n",
       "      <th>341</th>\n",
       "      <td>LONG ISLAND CITY HIGH SCHOOL</td>\n",
       "      <td>LONG ISLAND CITY HS</td>\n",
       "    </tr>\n",
       "    <tr>\n",
       "      <th>342</th>\n",
       "      <td>FRANK SINATRA SCHOOL OF THE ARTS HIGH SCHOOL</td>\n",
       "      <td>FRANK SINATRA HIGH SCHOOL</td>\n",
       "    </tr>\n",
       "    <tr>\n",
       "      <th>343</th>\n",
       "      <td>INFORMATION TECHNOLOGY HIGH SCHOOL</td>\n",
       "      <td>INFORMATION TECHNOLOGY HS</td>\n",
       "    </tr>\n",
       "    <tr>\n",
       "      <th>344</th>\n",
       "      <td>NEWCOMERS HIGH SCHOOL</td>\n",
       "      <td>NEWCOMERS HS:ACAD AMER STD</td>\n",
       "    </tr>\n",
       "    <tr>\n",
       "      <th>345</th>\n",
       "      <td>ACADEMY OF AMERICAN STUDIES</td>\n",
       "      <td>ACADEMY OF AMER. STUDIES HS</td>\n",
       "    </tr>\n",
       "    <tr>\n",
       "      <th>346</th>\n",
       "      <td>BACCALAUREATE SCHOOL FOR GLOBAL EDUCATION</td>\n",
       "      <td>0</td>\n",
       "    </tr>\n",
       "    <tr>\n",
       "      <th>347</th>\n",
       "      <td>CSI HIGH SCHOOL FOR INTERNATIONAL STUDIES</td>\n",
       "      <td>0</td>\n",
       "    </tr>\n",
       "    <tr>\n",
       "      <th>348</th>\n",
       "      <td>GAYNOR MCCOWN EXPEDITIONARY LEARNING SCHOOL</td>\n",
       "      <td>0</td>\n",
       "    </tr>\n",
       "    <tr>\n",
       "      <th>349</th>\n",
       "      <td>THE MICHAEL J. PETRIDES SCHOOL</td>\n",
       "      <td>PS 080 MICHAEL J. PETRIDES</td>\n",
       "    </tr>\n",
       "    <tr>\n",
       "      <th>350</th>\n",
       "      <td>NEW DORP HIGH SCHOOL</td>\n",
       "      <td>NEW DORP HS</td>\n",
       "    </tr>\n",
       "    <tr>\n",
       "      <th>351</th>\n",
       "      <td>PORT RICHMOND HIGH SCHOOL</td>\n",
       "      <td>PORT RICHMOND HS</td>\n",
       "    </tr>\n",
       "    <tr>\n",
       "      <th>352</th>\n",
       "      <td>CURTIS HIGH SCHOOL</td>\n",
       "      <td>CURTIS HS</td>\n",
       "    </tr>\n",
       "    <tr>\n",
       "      <th>353</th>\n",
       "      <td>TOTTENVILLE HIGH SCHOOL</td>\n",
       "      <td>TOTTENVILLE HS</td>\n",
       "    </tr>\n",
       "    <tr>\n",
       "      <th>354</th>\n",
       "      <td>SUSAN E. WAGNER HIGH SCHOOL</td>\n",
       "      <td>SUSAN E. WAGNER HS</td>\n",
       "    </tr>\n",
       "    <tr>\n",
       "      <th>355</th>\n",
       "      <td>RALPH R. MCKEE CAREER AND TECHNICAL EDUCATION ...</td>\n",
       "      <td>RAPLH MCKEE VHS</td>\n",
       "    </tr>\n",
       "    <tr>\n",
       "      <th>356</th>\n",
       "      <td>STATEN ISLAND TECHNICAL HIGH SCHOOL</td>\n",
       "      <td>STATEN ISLAND TECHNICAL HS</td>\n",
       "    </tr>\n",
       "    <tr>\n",
       "      <th>357</th>\n",
       "      <td>ACADEMY FOR ENVIRONMENTAL LEADERSHIP</td>\n",
       "      <td>0</td>\n",
       "    </tr>\n",
       "    <tr>\n",
       "      <th>358</th>\n",
       "      <td>EBC HIGH SCHOOL FOR PUBLIC SERVICE–BUSHWICK</td>\n",
       "      <td>EBC-HS FOR PUB SERVICE (BUSH)</td>\n",
       "    </tr>\n",
       "    <tr>\n",
       "      <th>359</th>\n",
       "      <td>BUSHWICK SCHOOL FOR SOCIAL JUSTICE</td>\n",
       "      <td>0</td>\n",
       "    </tr>\n",
       "    <tr>\n",
       "      <th>360</th>\n",
       "      <td>ACADEMY OF URBAN PLANNING</td>\n",
       "      <td>Academy of Urban Planning</td>\n",
       "    </tr>\n",
       "    <tr>\n",
       "      <th>361</th>\n",
       "      <td>ALL CITY LEADERSHIP SECONDARY SCHOOL</td>\n",
       "      <td>All City Leadership Secondary School</td>\n",
       "    </tr>\n",
       "    <tr>\n",
       "      <th>362</th>\n",
       "      <td>BUSHWICK LEADERS HIGH SCHOOL FOR ACADEMIC EXCE...</td>\n",
       "      <td>Bushwick Leaders High School for Academic Exce...</td>\n",
       "    </tr>\n",
       "  </tbody>\n",
       "</table>\n",
       "<p>363 rows × 2 columns</p>\n",
       "</div>"
      ],
      "text/plain": [
       "                                           SCHOOL NAME  \\\n",
       "0        HENRY STREET SCHOOL FOR INTERNATIONAL STUDIES   \n",
       "1                  UNIVERSITY NEIGHBORHOOD HIGH SCHOOL   \n",
       "2                           EAST SIDE COMMUNITY SCHOOL   \n",
       "3                              MARTA VALLE HIGH SCHOOL   \n",
       "4    NEW EXPLORATIONS INTO SCIENCE, TECHNOLOGY AND ...   \n",
       "5                       BARD HIGH SCHOOL EARLY COLLEGE   \n",
       "6    47 THE AMERICAN SIGN LANGUAGE AND ENGLISH SECO...   \n",
       "7                         FOOD AND FINANCE HIGH SCHOOL   \n",
       "8                                 ESSEX STREET ACADEMY   \n",
       "9                HIGH SCHOOL OF HOSPITALITY MANAGEMENT   \n",
       "10                                    PACE HIGH SCHOOL   \n",
       "11   URBAN ASSEMBLY SCHOOL OF DESIGN AND CONSTRUCTI...   \n",
       "12                          FACING HISTORY SCHOOL, THE   \n",
       "13   URBAN ASSEMBLY ACADEMY OF GOVERNMENT AND LAW, THE   \n",
       "14                        LOWER MANHATTAN ARTS ACADEMY   \n",
       "15   URBAN ASSEMBLY SCHOOL OF BUSINESS FOR YOUNG WO...   \n",
       "16                           GRAMERCY ARTS HIGH SCHOOL   \n",
       "17                                         NYC ISCHOOL   \n",
       "18                          MANHATTAN BUSINESS ACADEMY   \n",
       "19                           BUSINESS OF SPORTS SCHOOL   \n",
       "20          THE HIGH SCHOOL FOR LANGUAGE AND DIPLOMACY   \n",
       "21               HIGH SCHOOL FOR ENVIRONMENTAL STUDIES   \n",
       "22            PROFESSIONAL PERFORMING ARTS HIGH SCHOOL   \n",
       "23                   BARUCH COLLEGE CAMPUS HIGH SCHOOL   \n",
       "24         N.Y.C. LAB SCHOOL FOR COLLABORATIVE STUDIES   \n",
       "25                                N.Y.C. MUSEUM SCHOOL   \n",
       "26                       ELEANOR ROOSEVELT HIGH SCHOOL   \n",
       "27                              MILLENNIUM HIGH SCHOOL   \n",
       "28                                LANDMARK HIGH SCHOOL   \n",
       "29   HIGH SCHOOL FOR HEALTH PROFESSIONS AND HUMAN S...   \n",
       "..                                                 ...   \n",
       "333  GEORGE WASHINGTON CARVER HIGH SCHOOL FOR THE S...   \n",
       "334  PREPARATORY ACADEMY FOR WRITERS: A COLLEGE BOA...   \n",
       "335                            CAMBRIA HEIGHTS ACADEMY   \n",
       "336  MATHEMATICS, SCIENCE RESEARCH AND TECHNOLOGY M...   \n",
       "337               HUMANITIES & ARTS MAGNET HIGH SCHOOL   \n",
       "338           YOUNG WOMEN'S LEADERSHIP SCHOOL, ASTORIA   \n",
       "339         ACADEMY FOR CAREERS IN TELEVISION AND FILM   \n",
       "340                  WILLIAM CULLEN BRYANT HIGH SCHOOL   \n",
       "341                       LONG ISLAND CITY HIGH SCHOOL   \n",
       "342       FRANK SINATRA SCHOOL OF THE ARTS HIGH SCHOOL   \n",
       "343                 INFORMATION TECHNOLOGY HIGH SCHOOL   \n",
       "344                              NEWCOMERS HIGH SCHOOL   \n",
       "345                        ACADEMY OF AMERICAN STUDIES   \n",
       "346          BACCALAUREATE SCHOOL FOR GLOBAL EDUCATION   \n",
       "347          CSI HIGH SCHOOL FOR INTERNATIONAL STUDIES   \n",
       "348        GAYNOR MCCOWN EXPEDITIONARY LEARNING SCHOOL   \n",
       "349                     THE MICHAEL J. PETRIDES SCHOOL   \n",
       "350                               NEW DORP HIGH SCHOOL   \n",
       "351                          PORT RICHMOND HIGH SCHOOL   \n",
       "352                                 CURTIS HIGH SCHOOL   \n",
       "353                            TOTTENVILLE HIGH SCHOOL   \n",
       "354                        SUSAN E. WAGNER HIGH SCHOOL   \n",
       "355  RALPH R. MCKEE CAREER AND TECHNICAL EDUCATION ...   \n",
       "356                STATEN ISLAND TECHNICAL HIGH SCHOOL   \n",
       "357               ACADEMY FOR ENVIRONMENTAL LEADERSHIP   \n",
       "358        EBC HIGH SCHOOL FOR PUBLIC SERVICE–BUSHWICK   \n",
       "359                 BUSHWICK SCHOOL FOR SOCIAL JUSTICE   \n",
       "360                          ACADEMY OF URBAN PLANNING   \n",
       "361               ALL CITY LEADERSHIP SECONDARY SCHOOL   \n",
       "362  BUSHWICK LEADERS HIGH SCHOOL FOR ACADEMIC EXCE...   \n",
       "\n",
       "                                            SchoolName  \n",
       "0                                                    0  \n",
       "1                         UNIVERSITY NEIGHBORHOOD H.S.  \n",
       "2                               EAST SIDE COMMUNITY HS  \n",
       "3                                                    0  \n",
       "4                       NEW EXPLORATIONS SCI,TECH,MATH  \n",
       "5                                                    0  \n",
       "6                                                    0  \n",
       "7                                                    0  \n",
       "8                                                    0  \n",
       "9                High School of Hospitality Management  \n",
       "10                                    Pace High School  \n",
       "11   Urban Assembly School of Design and Construction,  \n",
       "12                          Facing History School, The  \n",
       "13   Urban Assembly Academy of Government and Law, The  \n",
       "14                        Lower Manhattan Arts Academy  \n",
       "15                                                   0  \n",
       "16                                                   0  \n",
       "17                                                   0  \n",
       "18                                                   0  \n",
       "19                                                   0  \n",
       "20                                                   0  \n",
       "21                        HS FOR ENVIRONMENTAL STUDIES  \n",
       "22                        PROFESSIONAL PERFORMING ARTS  \n",
       "23                            BARUCH COLLEGE CAMPUS HS  \n",
       "24                        NYC LAB HS FOR COLL. STUDIES  \n",
       "25                                   NYC MUSEUM SCHOOL  \n",
       "26                       Eleanor Roosevelt High School  \n",
       "27                              Millennium High School  \n",
       "28                                                   0  \n",
       "29                            HEALTH PROF & HUMAN SVCS  \n",
       "..                                                 ...  \n",
       "333  George Washington Carver High School for the S...  \n",
       "334                    Preparatory Academy for Writers  \n",
       "335                                                  0  \n",
       "336                     MATH/SCIENCE RESEARCH TECH CTR  \n",
       "337                                                  0  \n",
       "338                                                  0  \n",
       "339                                                  0  \n",
       "340                                WM CULLEN BRYANT HS  \n",
       "341                                LONG ISLAND CITY HS  \n",
       "342                          FRANK SINATRA HIGH SCHOOL  \n",
       "343                          INFORMATION TECHNOLOGY HS  \n",
       "344                         NEWCOMERS HS:ACAD AMER STD  \n",
       "345                        ACADEMY OF AMER. STUDIES HS  \n",
       "346                                                  0  \n",
       "347                                                  0  \n",
       "348                                                  0  \n",
       "349                         PS 080 MICHAEL J. PETRIDES  \n",
       "350                                        NEW DORP HS  \n",
       "351                                   PORT RICHMOND HS  \n",
       "352                                          CURTIS HS  \n",
       "353                                     TOTTENVILLE HS  \n",
       "354                                 SUSAN E. WAGNER HS  \n",
       "355                                    RAPLH MCKEE VHS  \n",
       "356                         STATEN ISLAND TECHNICAL HS  \n",
       "357                                                  0  \n",
       "358                      EBC-HS FOR PUB SERVICE (BUSH)  \n",
       "359                                                  0  \n",
       "360                          Academy of Urban Planning  \n",
       "361               All City Leadership Secondary School  \n",
       "362  Bushwick Leaders High School for Academic Exce...  \n",
       "\n",
       "[363 rows x 2 columns]"
      ]
     },
     "execution_count": 137,
     "metadata": {},
     "output_type": "execute_result"
    }
   ],
   "source": [
    "combined[['SCHOOL NAME', 'SchoolName']]"
   ]
  },
  {
   "cell_type": "code",
   "execution_count": 115,
   "metadata": {
    "collapsed": false
   },
   "outputs": [
    {
     "data": {
      "text/html": [
       "<div>\n",
       "<style scoped>\n",
       "    .dataframe tbody tr th:only-of-type {\n",
       "        vertical-align: middle;\n",
       "    }\n",
       "\n",
       "    .dataframe tbody tr th {\n",
       "        vertical-align: top;\n",
       "    }\n",
       "\n",
       "    .dataframe thead th {\n",
       "        text-align: right;\n",
       "    }\n",
       "</style>\n",
       "<table border=\"1\" class=\"dataframe\">\n",
       "  <thead>\n",
       "    <tr style=\"text-align: right;\">\n",
       "      <th></th>\n",
       "      <th>saf_p_11</th>\n",
       "      <th>saf_t_11</th>\n",
       "      <th>saf_s_11</th>\n",
       "      <th>saf_tot_11</th>\n",
       "    </tr>\n",
       "  </thead>\n",
       "  <tbody>\n",
       "    <tr>\n",
       "      <th>0</th>\n",
       "      <td>7.8</td>\n",
       "      <td>6.3</td>\n",
       "      <td>6.000000</td>\n",
       "      <td>6.7</td>\n",
       "    </tr>\n",
       "    <tr>\n",
       "      <th>1</th>\n",
       "      <td>7.9</td>\n",
       "      <td>6.6</td>\n",
       "      <td>6.000000</td>\n",
       "      <td>6.8</td>\n",
       "    </tr>\n",
       "    <tr>\n",
       "      <th>2</th>\n",
       "      <td>8.7</td>\n",
       "      <td>7.3</td>\n",
       "      <td>6.611667</td>\n",
       "      <td>7.9</td>\n",
       "    </tr>\n",
       "    <tr>\n",
       "      <th>3</th>\n",
       "      <td>7.7</td>\n",
       "      <td>6.4</td>\n",
       "      <td>6.400000</td>\n",
       "      <td>6.9</td>\n",
       "    </tr>\n",
       "    <tr>\n",
       "      <th>4</th>\n",
       "      <td>8.5</td>\n",
       "      <td>7.6</td>\n",
       "      <td>7.300000</td>\n",
       "      <td>7.8</td>\n",
       "    </tr>\n",
       "    <tr>\n",
       "      <th>5</th>\n",
       "      <td>8.8</td>\n",
       "      <td>8.2</td>\n",
       "      <td>8.300000</td>\n",
       "      <td>8.5</td>\n",
       "    </tr>\n",
       "    <tr>\n",
       "      <th>6</th>\n",
       "      <td>8.9</td>\n",
       "      <td>8.1</td>\n",
       "      <td>7.300000</td>\n",
       "      <td>8.1</td>\n",
       "    </tr>\n",
       "    <tr>\n",
       "      <th>7</th>\n",
       "      <td>7.6</td>\n",
       "      <td>7.3</td>\n",
       "      <td>6.200000</td>\n",
       "      <td>7.0</td>\n",
       "    </tr>\n",
       "    <tr>\n",
       "      <th>8</th>\n",
       "      <td>8.7</td>\n",
       "      <td>8.0</td>\n",
       "      <td>7.400000</td>\n",
       "      <td>7.9</td>\n",
       "    </tr>\n",
       "    <tr>\n",
       "      <th>9</th>\n",
       "      <td>8.0</td>\n",
       "      <td>8.6</td>\n",
       "      <td>7.100000</td>\n",
       "      <td>7.9</td>\n",
       "    </tr>\n",
       "    <tr>\n",
       "      <th>10</th>\n",
       "      <td>7.5</td>\n",
       "      <td>6.6</td>\n",
       "      <td>6.600000</td>\n",
       "      <td>6.9</td>\n",
       "    </tr>\n",
       "    <tr>\n",
       "      <th>11</th>\n",
       "      <td>8.6</td>\n",
       "      <td>7.3</td>\n",
       "      <td>6.500000</td>\n",
       "      <td>7.5</td>\n",
       "    </tr>\n",
       "    <tr>\n",
       "      <th>12</th>\n",
       "      <td>8.2</td>\n",
       "      <td>7.4</td>\n",
       "      <td>7.000000</td>\n",
       "      <td>7.5</td>\n",
       "    </tr>\n",
       "    <tr>\n",
       "      <th>13</th>\n",
       "      <td>7.5</td>\n",
       "      <td>5.4</td>\n",
       "      <td>6.000000</td>\n",
       "      <td>6.1</td>\n",
       "    </tr>\n",
       "    <tr>\n",
       "      <th>14</th>\n",
       "      <td>7.8</td>\n",
       "      <td>7.4</td>\n",
       "      <td>6.600000</td>\n",
       "      <td>7.3</td>\n",
       "    </tr>\n",
       "    <tr>\n",
       "      <th>15</th>\n",
       "      <td>8.4</td>\n",
       "      <td>7.0</td>\n",
       "      <td>6.800000</td>\n",
       "      <td>7.4</td>\n",
       "    </tr>\n",
       "    <tr>\n",
       "      <th>16</th>\n",
       "      <td>8.2</td>\n",
       "      <td>6.4</td>\n",
       "      <td>6.100000</td>\n",
       "      <td>6.9</td>\n",
       "    </tr>\n",
       "    <tr>\n",
       "      <th>17</th>\n",
       "      <td>8.6</td>\n",
       "      <td>7.7</td>\n",
       "      <td>7.800000</td>\n",
       "      <td>8.0</td>\n",
       "    </tr>\n",
       "    <tr>\n",
       "      <th>18</th>\n",
       "      <td>8.3</td>\n",
       "      <td>7.4</td>\n",
       "      <td>6.900000</td>\n",
       "      <td>7.5</td>\n",
       "    </tr>\n",
       "    <tr>\n",
       "      <th>19</th>\n",
       "      <td>8.1</td>\n",
       "      <td>6.2</td>\n",
       "      <td>6.200000</td>\n",
       "      <td>6.8</td>\n",
       "    </tr>\n",
       "    <tr>\n",
       "      <th>20</th>\n",
       "      <td>8.1</td>\n",
       "      <td>6.3</td>\n",
       "      <td>6.600000</td>\n",
       "      <td>7.0</td>\n",
       "    </tr>\n",
       "    <tr>\n",
       "      <th>21</th>\n",
       "      <td>8.3</td>\n",
       "      <td>7.3</td>\n",
       "      <td>7.100000</td>\n",
       "      <td>7.6</td>\n",
       "    </tr>\n",
       "    <tr>\n",
       "      <th>22</th>\n",
       "      <td>8.1</td>\n",
       "      <td>7.8</td>\n",
       "      <td>7.100000</td>\n",
       "      <td>7.7</td>\n",
       "    </tr>\n",
       "    <tr>\n",
       "      <th>23</th>\n",
       "      <td>8.4</td>\n",
       "      <td>8.0</td>\n",
       "      <td>7.800000</td>\n",
       "      <td>8.1</td>\n",
       "    </tr>\n",
       "    <tr>\n",
       "      <th>24</th>\n",
       "      <td>8.4</td>\n",
       "      <td>7.8</td>\n",
       "      <td>7.500000</td>\n",
       "      <td>7.9</td>\n",
       "    </tr>\n",
       "    <tr>\n",
       "      <th>25</th>\n",
       "      <td>8.0</td>\n",
       "      <td>6.8</td>\n",
       "      <td>7.100000</td>\n",
       "      <td>7.3</td>\n",
       "    </tr>\n",
       "    <tr>\n",
       "      <th>26</th>\n",
       "      <td>9.0</td>\n",
       "      <td>8.2</td>\n",
       "      <td>8.100000</td>\n",
       "      <td>8.5</td>\n",
       "    </tr>\n",
       "    <tr>\n",
       "      <th>27</th>\n",
       "      <td>8.7</td>\n",
       "      <td>8.6</td>\n",
       "      <td>7.500000</td>\n",
       "      <td>8.3</td>\n",
       "    </tr>\n",
       "    <tr>\n",
       "      <th>28</th>\n",
       "      <td>8.0</td>\n",
       "      <td>7.2</td>\n",
       "      <td>6.700000</td>\n",
       "      <td>7.3</td>\n",
       "    </tr>\n",
       "    <tr>\n",
       "      <th>29</th>\n",
       "      <td>7.6</td>\n",
       "      <td>7.7</td>\n",
       "      <td>6.500000</td>\n",
       "      <td>7.3</td>\n",
       "    </tr>\n",
       "    <tr>\n",
       "      <th>...</th>\n",
       "      <td>...</td>\n",
       "      <td>...</td>\n",
       "      <td>...</td>\n",
       "      <td>...</td>\n",
       "    </tr>\n",
       "    <tr>\n",
       "      <th>333</th>\n",
       "      <td>7.8</td>\n",
       "      <td>7.2</td>\n",
       "      <td>5.900000</td>\n",
       "      <td>7.0</td>\n",
       "    </tr>\n",
       "    <tr>\n",
       "      <th>334</th>\n",
       "      <td>8.1</td>\n",
       "      <td>7.9</td>\n",
       "      <td>7.000000</td>\n",
       "      <td>7.6</td>\n",
       "    </tr>\n",
       "    <tr>\n",
       "      <th>335</th>\n",
       "      <td>8.7</td>\n",
       "      <td>8.6</td>\n",
       "      <td>7.100000</td>\n",
       "      <td>8.1</td>\n",
       "    </tr>\n",
       "    <tr>\n",
       "      <th>336</th>\n",
       "      <td>7.6</td>\n",
       "      <td>6.2</td>\n",
       "      <td>6.000000</td>\n",
       "      <td>6.6</td>\n",
       "    </tr>\n",
       "    <tr>\n",
       "      <th>337</th>\n",
       "      <td>6.8</td>\n",
       "      <td>7.4</td>\n",
       "      <td>5.500000</td>\n",
       "      <td>6.6</td>\n",
       "    </tr>\n",
       "    <tr>\n",
       "      <th>338</th>\n",
       "      <td>8.9</td>\n",
       "      <td>7.5</td>\n",
       "      <td>8.100000</td>\n",
       "      <td>8.1</td>\n",
       "    </tr>\n",
       "    <tr>\n",
       "      <th>339</th>\n",
       "      <td>9.0</td>\n",
       "      <td>8.1</td>\n",
       "      <td>7.300000</td>\n",
       "      <td>8.2</td>\n",
       "    </tr>\n",
       "    <tr>\n",
       "      <th>340</th>\n",
       "      <td>7.5</td>\n",
       "      <td>7.5</td>\n",
       "      <td>6.600000</td>\n",
       "      <td>7.2</td>\n",
       "    </tr>\n",
       "    <tr>\n",
       "      <th>341</th>\n",
       "      <td>6.9</td>\n",
       "      <td>6.6</td>\n",
       "      <td>5.600000</td>\n",
       "      <td>6.3</td>\n",
       "    </tr>\n",
       "    <tr>\n",
       "      <th>342</th>\n",
       "      <td>8.4</td>\n",
       "      <td>7.3</td>\n",
       "      <td>7.000000</td>\n",
       "      <td>7.6</td>\n",
       "    </tr>\n",
       "    <tr>\n",
       "      <th>343</th>\n",
       "      <td>8.0</td>\n",
       "      <td>7.0</td>\n",
       "      <td>6.500000</td>\n",
       "      <td>7.1</td>\n",
       "    </tr>\n",
       "    <tr>\n",
       "      <th>344</th>\n",
       "      <td>8.4</td>\n",
       "      <td>8.1</td>\n",
       "      <td>7.400000</td>\n",
       "      <td>8.0</td>\n",
       "    </tr>\n",
       "    <tr>\n",
       "      <th>345</th>\n",
       "      <td>8.1</td>\n",
       "      <td>7.2</td>\n",
       "      <td>6.800000</td>\n",
       "      <td>7.4</td>\n",
       "    </tr>\n",
       "    <tr>\n",
       "      <th>346</th>\n",
       "      <td>8.8</td>\n",
       "      <td>8.2</td>\n",
       "      <td>8.000000</td>\n",
       "      <td>8.3</td>\n",
       "    </tr>\n",
       "    <tr>\n",
       "      <th>347</th>\n",
       "      <td>8.5</td>\n",
       "      <td>7.2</td>\n",
       "      <td>6.900000</td>\n",
       "      <td>7.6</td>\n",
       "    </tr>\n",
       "    <tr>\n",
       "      <th>348</th>\n",
       "      <td>8.0</td>\n",
       "      <td>6.1</td>\n",
       "      <td>6.400000</td>\n",
       "      <td>6.9</td>\n",
       "    </tr>\n",
       "    <tr>\n",
       "      <th>349</th>\n",
       "      <td>8.1</td>\n",
       "      <td>7.0</td>\n",
       "      <td>6.700000</td>\n",
       "      <td>7.3</td>\n",
       "    </tr>\n",
       "    <tr>\n",
       "      <th>350</th>\n",
       "      <td>7.7</td>\n",
       "      <td>7.6</td>\n",
       "      <td>6.100000</td>\n",
       "      <td>7.1</td>\n",
       "    </tr>\n",
       "    <tr>\n",
       "      <th>351</th>\n",
       "      <td>7.1</td>\n",
       "      <td>6.7</td>\n",
       "      <td>5.200000</td>\n",
       "      <td>6.4</td>\n",
       "    </tr>\n",
       "    <tr>\n",
       "      <th>352</th>\n",
       "      <td>7.1</td>\n",
       "      <td>7.0</td>\n",
       "      <td>6.000000</td>\n",
       "      <td>6.7</td>\n",
       "    </tr>\n",
       "    <tr>\n",
       "      <th>353</th>\n",
       "      <td>7.6</td>\n",
       "      <td>7.7</td>\n",
       "      <td>7.100000</td>\n",
       "      <td>7.4</td>\n",
       "    </tr>\n",
       "    <tr>\n",
       "      <th>354</th>\n",
       "      <td>7.5</td>\n",
       "      <td>7.5</td>\n",
       "      <td>6.700000</td>\n",
       "      <td>7.3</td>\n",
       "    </tr>\n",
       "    <tr>\n",
       "      <th>355</th>\n",
       "      <td>7.6</td>\n",
       "      <td>6.4</td>\n",
       "      <td>6.000000</td>\n",
       "      <td>6.7</td>\n",
       "    </tr>\n",
       "    <tr>\n",
       "      <th>356</th>\n",
       "      <td>8.8</td>\n",
       "      <td>8.9</td>\n",
       "      <td>8.200000</td>\n",
       "      <td>8.6</td>\n",
       "    </tr>\n",
       "    <tr>\n",
       "      <th>357</th>\n",
       "      <td>8.1</td>\n",
       "      <td>6.1</td>\n",
       "      <td>5.800000</td>\n",
       "      <td>6.7</td>\n",
       "    </tr>\n",
       "    <tr>\n",
       "      <th>358</th>\n",
       "      <td>8.0</td>\n",
       "      <td>5.8</td>\n",
       "      <td>6.400000</td>\n",
       "      <td>6.7</td>\n",
       "    </tr>\n",
       "    <tr>\n",
       "      <th>359</th>\n",
       "      <td>8.2</td>\n",
       "      <td>7.3</td>\n",
       "      <td>6.500000</td>\n",
       "      <td>7.3</td>\n",
       "    </tr>\n",
       "    <tr>\n",
       "      <th>360</th>\n",
       "      <td>7.9</td>\n",
       "      <td>6.4</td>\n",
       "      <td>6.400000</td>\n",
       "      <td>6.9</td>\n",
       "    </tr>\n",
       "    <tr>\n",
       "      <th>361</th>\n",
       "      <td>9.4</td>\n",
       "      <td>9.6</td>\n",
       "      <td>8.900000</td>\n",
       "      <td>9.3</td>\n",
       "    </tr>\n",
       "    <tr>\n",
       "      <th>362</th>\n",
       "      <td>8.5</td>\n",
       "      <td>7.1</td>\n",
       "      <td>6.600000</td>\n",
       "      <td>7.4</td>\n",
       "    </tr>\n",
       "  </tbody>\n",
       "</table>\n",
       "<p>363 rows × 4 columns</p>\n",
       "</div>"
      ],
      "text/plain": [
       "     saf_p_11  saf_t_11  saf_s_11  saf_tot_11\n",
       "0         7.8       6.3  6.000000         6.7\n",
       "1         7.9       6.6  6.000000         6.8\n",
       "2         8.7       7.3  6.611667         7.9\n",
       "3         7.7       6.4  6.400000         6.9\n",
       "4         8.5       7.6  7.300000         7.8\n",
       "5         8.8       8.2  8.300000         8.5\n",
       "6         8.9       8.1  7.300000         8.1\n",
       "7         7.6       7.3  6.200000         7.0\n",
       "8         8.7       8.0  7.400000         7.9\n",
       "9         8.0       8.6  7.100000         7.9\n",
       "10        7.5       6.6  6.600000         6.9\n",
       "11        8.6       7.3  6.500000         7.5\n",
       "12        8.2       7.4  7.000000         7.5\n",
       "13        7.5       5.4  6.000000         6.1\n",
       "14        7.8       7.4  6.600000         7.3\n",
       "15        8.4       7.0  6.800000         7.4\n",
       "16        8.2       6.4  6.100000         6.9\n",
       "17        8.6       7.7  7.800000         8.0\n",
       "18        8.3       7.4  6.900000         7.5\n",
       "19        8.1       6.2  6.200000         6.8\n",
       "20        8.1       6.3  6.600000         7.0\n",
       "21        8.3       7.3  7.100000         7.6\n",
       "22        8.1       7.8  7.100000         7.7\n",
       "23        8.4       8.0  7.800000         8.1\n",
       "24        8.4       7.8  7.500000         7.9\n",
       "25        8.0       6.8  7.100000         7.3\n",
       "26        9.0       8.2  8.100000         8.5\n",
       "27        8.7       8.6  7.500000         8.3\n",
       "28        8.0       7.2  6.700000         7.3\n",
       "29        7.6       7.7  6.500000         7.3\n",
       "..        ...       ...       ...         ...\n",
       "333       7.8       7.2  5.900000         7.0\n",
       "334       8.1       7.9  7.000000         7.6\n",
       "335       8.7       8.6  7.100000         8.1\n",
       "336       7.6       6.2  6.000000         6.6\n",
       "337       6.8       7.4  5.500000         6.6\n",
       "338       8.9       7.5  8.100000         8.1\n",
       "339       9.0       8.1  7.300000         8.2\n",
       "340       7.5       7.5  6.600000         7.2\n",
       "341       6.9       6.6  5.600000         6.3\n",
       "342       8.4       7.3  7.000000         7.6\n",
       "343       8.0       7.0  6.500000         7.1\n",
       "344       8.4       8.1  7.400000         8.0\n",
       "345       8.1       7.2  6.800000         7.4\n",
       "346       8.8       8.2  8.000000         8.3\n",
       "347       8.5       7.2  6.900000         7.6\n",
       "348       8.0       6.1  6.400000         6.9\n",
       "349       8.1       7.0  6.700000         7.3\n",
       "350       7.7       7.6  6.100000         7.1\n",
       "351       7.1       6.7  5.200000         6.4\n",
       "352       7.1       7.0  6.000000         6.7\n",
       "353       7.6       7.7  7.100000         7.4\n",
       "354       7.5       7.5  6.700000         7.3\n",
       "355       7.6       6.4  6.000000         6.7\n",
       "356       8.8       8.9  8.200000         8.6\n",
       "357       8.1       6.1  5.800000         6.7\n",
       "358       8.0       5.8  6.400000         6.7\n",
       "359       8.2       7.3  6.500000         7.3\n",
       "360       7.9       6.4  6.400000         6.9\n",
       "361       9.4       9.6  8.900000         9.3\n",
       "362       8.5       7.1  6.600000         7.4\n",
       "\n",
       "[363 rows x 4 columns]"
      ]
     },
     "execution_count": 115,
     "metadata": {},
     "output_type": "execute_result"
    }
   ],
   "source": [
    "combined.filter(regex = (\"^saf\"))"
   ]
  },
  {
   "cell_type": "code",
   "execution_count": 144,
   "metadata": {
    "collapsed": false
   },
   "outputs": [],
   "source": [
    "df = {}\n",
    "survey_type = ['rr', 'saf', 'com', 'eng', 'aca']\n",
    "\n",
    "for i in survey_type:\n",
    "    df[i] = combined.filter(regex = (\"^{}\").format(i))"
   ]
  },
  {
   "cell_type": "code",
   "execution_count": 146,
   "metadata": {
    "collapsed": false
   },
   "outputs": [
    {
     "data": {
      "text/plain": [
       "<matplotlib.axes._subplots.AxesSubplot at 0x7fe1cd4e52e8>"
      ]
     },
     "execution_count": 146,
     "metadata": {},
     "output_type": "execute_result"
    },
    {
     "data": {
      "image/png": "[encoded data removed]",
      "text/plain": [
       "<matplotlib.figure.Figure at 0x7fe1cd5ee5f8>"
      ]
     },
     "metadata": {},
     "output_type": "display_data"
    }
   ],
   "source": [
    "#Response Rate\n",
    "df['rr'].mean().plot(kind = 'bar')"
   ]
  },
  {
   "cell_type": "code",
   "execution_count": 148,
   "metadata": {
    "collapsed": false
   },
   "outputs": [
    {
     "data": {
      "text/plain": [
       "<matplotlib.axes._subplots.AxesSubplot at 0x7fe1cd5016a0>"
      ]
     },
     "execution_count": 148,
     "metadata": {},
     "output_type": "execute_result"
    },
    {
     "data": {
      "image/png": "[encoded data removed]",
      "text/plain": [
       "<matplotlib.figure.Figure at 0x7fe1cd4c84a8>"
      ]
     },
     "metadata": {},
     "output_type": "display_data"
    }
   ],
   "source": [
    "# Safety and Respect \n",
    "df['saf'].mean().plot(kind = 'bar', ylim = [5,9])"
   ]
  },
  {
   "cell_type": "code",
   "execution_count": 149,
   "metadata": {
    "collapsed": false
   },
   "outputs": [
    {
     "data": {
      "text/plain": [
       "<matplotlib.axes._subplots.AxesSubplot at 0x7fe1cd473710>"
      ]
     },
     "execution_count": 149,
     "metadata": {},
     "output_type": "execute_result"
    },
    {
     "data": {
      "image/png": "[encoded data removed]",
      "text/plain": [
       "<matplotlib.figure.Figure at 0x7fe1cd428320>"
      ]
     },
     "metadata": {},
     "output_type": "display_data"
    }
   ],
   "source": [
    "# Communication\n",
    "df['com'].mean().plot(kind = 'bar', ylim = [5,9])"
   ]
  },
  {
   "cell_type": "code",
   "execution_count": 150,
   "metadata": {
    "collapsed": false
   },
   "outputs": [
    {
     "data": {
      "text/plain": [
       "<matplotlib.axes._subplots.AxesSubplot at 0x7fe1d072d0f0>"
      ]
     },
     "execution_count": 150,
     "metadata": {},
     "output_type": "execute_result"
    },
    {
     "data": {
      "image/png": "[encoded data removed]",
      "text/plain": [
       "<matplotlib.figure.Figure at 0x7fe1cd40e208>"
      ]
     },
     "metadata": {},
     "output_type": "display_data"
    }
   ],
   "source": [
    "#Engagement\n",
    "df['eng'].mean().plot(kind = 'bar', ylim = [5,9])"
   ]
  },
  {
   "cell_type": "code",
   "execution_count": 151,
   "metadata": {
    "collapsed": false
   },
   "outputs": [
    {
     "data": {
      "text/plain": [
       "<matplotlib.axes._subplots.AxesSubplot at 0x7fe1cd3c0630>"
      ]
     },
     "execution_count": 151,
     "metadata": {},
     "output_type": "execute_result"
    },
    {
     "data": {
      "image/png": "[encoded data removed]",
      "text/plain": [
       "<matplotlib.figure.Figure at 0x7fe1cd37d7b8>"
      ]
     },
     "metadata": {},
     "output_type": "display_data"
    }
   ],
   "source": [
    "# Academics\n",
    "df['aca'].mean().plot(kind = 'bar', ylim = [5,9])"
   ]
  },
  {
   "cell_type": "markdown",
   "metadata": {},
   "source": [
    "Seems like in general, parents rate different school attributes better than teachers or students, but parents also have the lowest response rates of any of the three groups. It seems like roughly 80% of teachers and students respond while only 40% of parents respond. That may indicate that the teachers and students survey results should be trusted more than the parents. Greatest discrepancies seem to be in Safety and Communication"
   ]
  },
  {
   "cell_type": "code",
   "execution_count": null,
   "metadata": {
    "collapsed": true
   },
   "outputs": [],
   "source": []
  }
 ],
 "metadata": {
  "kernelspec": {
   "display_name": "Python 3",
   "language": "python",
   "name": "python3"
  },
  "language_info": {
   "codemirror_mode": {
    "name": "ipython",
    "version": 3
   },
   "file_extension": ".py",
   "mimetype": "text/x-python",
   "name": "python",
   "nbconvert_exporter": "python",
   "pygments_lexer": "ipython3",
   "version": "3.4.3"
  }
 },
 "nbformat": 4,
 "nbformat_minor": 2
}
